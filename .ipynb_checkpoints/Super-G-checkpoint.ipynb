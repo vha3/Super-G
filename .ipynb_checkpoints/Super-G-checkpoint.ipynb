{
 "cells": [
  {
   "cell_type": "markdown",
   "metadata": {},
   "source": [
    "# Super-G Sprite Testing"
   ]
  },
  {
   "cell_type": "markdown",
   "metadata": {},
   "source": [
    "V. Hunter Adams"
   ]
  },
  {
   "cell_type": "code",
   "execution_count": 15,
   "metadata": {
    "collapsed": true
   },
   "outputs": [],
   "source": [
    "import serial\n",
    "import numpy\n",
    "from matplotlib import pyplot as plt\n",
    "from IPython.display import clear_output\n",
    "ser = serial.Serial('/dev/cu.usbserial-DN01AWD9', 9600)"
   ]
  },
  {
   "cell_type": "code",
   "execution_count": 18,
   "metadata": {
    "collapsed": true
   },
   "outputs": [],
   "source": [
    "filename=\"sprite_1.txt\""
   ]
  },
  {
   "cell_type": "code",
   "execution_count": 17,
   "metadata": {
    "collapsed": false,
    "scrolled": true
   },
   "outputs": [],
   "source": [
    "datafile=open(filename, 'a')\n",
    "count = 0;\n",
    "while count < 200:\n",
    "    datafile=open(filename, 'a')\n",
    "    data = ser.readline().rstrip()\n",
    "    datafile.write(data)\n",
    "    datafile.write('\\n')\n",
    "    print data\n",
    "    count += 1\n",
    "    datafile.close()\n",
    "datafile.close()\n",
    "ser.close()\n",
    "clear_output()"
   ]
  },
  {
   "cell_type": "code",
   "execution_count": null,
   "metadata": {
    "collapsed": true
   },
   "outputs": [],
   "source": []
  }
 ],
 "metadata": {
  "kernelspec": {
   "display_name": "Python 2",
   "language": "python",
   "name": "python2"
  },
  "language_info": {
   "codemirror_mode": {
    "name": "ipython",
    "version": 2
   },
   "file_extension": ".py",
   "mimetype": "text/x-python",
   "name": "python",
   "nbconvert_exporter": "python",
   "pygments_lexer": "ipython2",
   "version": "2.7.9"
  }
 },
 "nbformat": 4,
 "nbformat_minor": 2
}
