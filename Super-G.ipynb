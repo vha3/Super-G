{
 "cells": [
  {
   "cell_type": "markdown",
   "metadata": {},
   "source": [
    "# Super-G Sprite Testing"
   ]
  },
  {
   "cell_type": "markdown",
   "metadata": {},
   "source": [
    "###### V. Hunter Adams"
   ]
  },
  {
   "cell_type": "code",
   "execution_count": 22,
   "metadata": {
    "collapsed": false
   },
   "outputs": [],
   "source": [
    "import serial\n",
    "import numpy\n",
    "from matplotlib import pyplot as plt\n",
    "from IPython.display import clear_output\n",
    "from IPython.display import Image\n",
    "from IPython.display import Latex\n",
    "import matplotlib.pyplot as plt\n",
    "%matplotlib inline\n",
    "from IPython.core.display import HTML \n",
    "from IPython.display import HTML\n",
    "from ipywidgets import *\n",
    "import plotly.plotly as py\n",
    "import plotly\n",
    "import plotly.graph_objs as go\n",
    "import pandas as pd\n",
    "import plotly.tools as tls\n",
    "import urllib2\n",
    "tls.set_credentials_file(username='v.h.adams', api_key='werEw55EhyYuY92HZtTt')"
   ]
  },
  {
   "cell_type": "markdown",
   "metadata": {},
   "source": [
    "## Experimental Setup"
   ]
  },
  {
   "cell_type": "markdown",
   "metadata": {},
   "source": [
    "Header pins were soldered onto each of the 40 Sprites pictured below so that each could be snapped into a breadboard. The breadboard connects the Sprite to an FTDI, which is in turn connected to the computer via USB. Each Sprite was loaded with a variation of the software shown below (the only variation being the name of each Sprite, a number between 0 and 40). 200 datapoints from each sensor were collected from each Sprite. Data will be gathered in precisely the same manner after g-testing to characterize any degradatation that may have taken place."
   ]
  },
  {
   "cell_type": "markdown",
   "metadata": {},
   "source": [
    "#### Hardware"
   ]
  },
  {
   "cell_type": "markdown",
   "metadata": {},
   "source": [
    "<img src=\"Sprites.png\">"
   ]
  },
  {
   "cell_type": "markdown",
   "metadata": {},
   "source": [
    "<img src=\"Breadboard.png\">"
   ]
  },
  {
   "cell_type": "markdown",
   "metadata": {},
   "source": [
    "#### Software"
   ]
  },
  {
   "cell_type": "markdown",
   "metadata": {},
   "source": [
    "```C\n",
    "\n",
    "#include <Arduino.h>\n",
    "#include <Wire.h>\n",
    "#include \"HardwareSerial.h\"\n",
    "#include <LSM9DS1.h>\n",
    "\n",
    "int back_sunsensor=13;\n",
    "int front_sunsensor=8;\n",
    "\n",
    "int sprite_name=40; // Different for each Sprite\n",
    "\n",
    "// the setup function runs once when you press reset or power the board\n",
    "void setup() {\n",
    "    Wire.begin();\n",
    "    smeGyroscope.begin();\n",
    "    smeAccelerometer.begin();\n",
    "    smeMagnetic.begin();\n",
    "    Serial.begin(9600);\n",
    "}\n",
    "\n",
    "void printAxis(int x, int y, int z, int xa, int ya, int za, int xm, int ym, int zm, int front, int back) {\n",
    "    Serial.print(sprite_name, DEC);\n",
    "    Serial.print(\",\");\n",
    "    Serial.print(x, DEC);\n",
    "    Serial.print(\",\");\n",
    "    Serial.print(y, DEC);\n",
    "    Serial.print(\",\");\n",
    "    Serial.print(z, DEC);\n",
    "    Serial.print(\",\");\n",
    "    Serial.print(xa, DEC);\n",
    "    Serial.print(\",\");\n",
    "    Serial.print(ya, DEC);\n",
    "    Serial.print(\",\");\n",
    "    Serial.print(za, DEC);\n",
    "    Serial.print(\",\");\n",
    "    Serial.print(xm, DEC);\n",
    "    Serial.print(\",\");\n",
    "    Serial.print(ym, DEC);\n",
    "    Serial.print(\",\");\n",
    "    Serial.print(zm, DEC);\n",
    "    Serial.print(\",\");\n",
    "    Serial.print(front, DEC);\n",
    "    Serial.print(\",\");\n",
    "    Serial.println(back, DEC);\n",
    "}\n",
    "\n",
    "// the loop function runs over and over again forever\n",
    "void loop() {\n",
    "\n",
    "    int x = 0;\n",
    "    int y = 0;\n",
    "    int z = 0;\n",
    "    int xa = 0;\n",
    "    int ya = 0;\n",
    "    int za = 0;\n",
    "    int xm = 0;\n",
    "    int ym = 0;\n",
    "    int zm = 0;\n",
    "    int front = 0;\n",
    "    int back = 0;\n",
    "\n",
    "    x = smeGyroscope.readX();\n",
    "    y = smeGyroscope.readY();\n",
    "    z = smeGyroscope.readZ();\n",
    "    xa = smeAccelerometer.readX();\n",
    "    ya = smeAccelerometer.readY();\n",
    "    za = smeAccelerometer.readZ();\n",
    "    xm = smeMagnetic.readX();\n",
    "    ym = smeMagnetic.readY();\n",
    "    zm = smeMagnetic.readZ();\n",
    "    front = analogRead(front_sunsensor);\n",
    "    back = analogRead(back_sunsensor);\n",
    "\n",
    "//    Serial.print(\"Gyroscope     [mdps]    :\");\n",
    "    printAxis(x, y, z, xa, ya, za, xm, ym, zm, front, back);\n",
    "\n",
    "    digitalWrite(LED, LOW);\n",
    "    delay(10);\n",
    "\n",
    "    digitalWrite(LED, HIGH);    // turn the LED on\n",
    "    delay(10);            // wait for a second\n",
    "\n",
    "}\n",
    "```"
   ]
  },
  {
   "cell_type": "markdown",
   "metadata": {},
   "source": [
    "## Data Acquisition"
   ]
  },
  {
   "cell_type": "markdown",
   "metadata": {},
   "source": [
    "Function that writes serial data from Sprite to a file."
   ]
  },
  {
   "cell_type": "code",
   "execution_count": 48,
   "metadata": {
    "collapsed": false,
    "scrolled": true
   },
   "outputs": [],
   "source": [
    "ser = serial.Serial('/dev/cu.usbserial-DN01AWD9', 9600)\n",
    "filename=\"./Posterior_Data/sprite_5.txt\"\n",
    "\n",
    "datafile=open(filename, 'a')\n",
    "count = 0;\n",
    "while count < 200:\n",
    "    datafile=open(filename, 'a')\n",
    "    data = ser.readline().rstrip()\n",
    "    datafile.write(data)\n",
    "    datafile.write('\\n')\n",
    "    print data\n",
    "    count += 1\n",
    "    datafile.close()\n",
    "datafile.close()\n",
    "ser.close()\n",
    "clear_output()"
   ]
  },
  {
   "cell_type": "markdown",
   "metadata": {},
   "source": [
    "## Helper Functions and Global Variables"
   ]
  },
  {
   "cell_type": "markdown",
   "metadata": {},
   "source": [
    "Indices representing media of impact:"
   ]
  },
  {
   "cell_type": "code",
   "execution_count": null,
   "metadata": {
    "collapsed": true
   },
   "outputs": [],
   "source": [
    "air      = numpy.array([9,10,15,16,22,21])-1\n",
    "beads    = numpy.array([11,12,17,18,24,23])-1\n",
    "wax      = numpy.array([1,2,3,4,7,8,5,6])-1\n",
    "wcs8     = numpy.array([13,14,20,19,26,25])-1\n",
    "stf      = numpy.array([39, 40])-1\n",
    "regolith = numpy.array([28,27,29,30,31,32,33,34,35,36,37,38])-1"
   ]
  },
  {
   "cell_type": "markdown",
   "metadata": {},
   "source": [
    "Create a function that builds a histogram object:"
   ]
  },
  {
   "cell_type": "code",
   "execution_count": 49,
   "metadata": {
    "collapsed": true
   },
   "outputs": [],
   "source": [
    "def createHisto(data, label):\n",
    "    return go.Histogram(\n",
    "                x=data,\n",
    "                histnorm='probability',\n",
    "                name=label,\n",
    "                autobinx=True,\n",
    "                opacity=0.75\n",
    "            )"
   ]
  },
  {
   "cell_type": "markdown",
   "metadata": {},
   "source": [
    "Global variables manipulated during histogram construction, and general layout object:"
   ]
  },
  {
   "cell_type": "code",
   "execution_count": 50,
   "metadata": {
    "collapsed": true
   },
   "outputs": [],
   "source": [
    "total=40\n",
    "data = []\n",
    "count = 0\n",
    "means = []\n",
    "stds = []\n",
    "zmeandata = []\n",
    "\n",
    "layout = go.Layout(\n",
    "    barmode='stack',\n",
    "    xaxis=dict(\n",
    "        title='Measured Value'\n",
    "    ),\n",
    "    yaxis=dict(\n",
    "        title='Count'\n",
    "    ),\n",
    "    bargap=0.1,\n",
    "    bargroupgap=0.1\n",
    ")"
   ]
  },
  {
   "cell_type": "markdown",
   "metadata": {},
   "source": [
    "Function for extracting data in specified line location from all files in directory:"
   ]
  },
  {
   "cell_type": "code",
   "execution_count": 51,
   "metadata": {
    "collapsed": true
   },
   "outputs": [],
   "source": [
    "def gatherData(index):\n",
    "    global data\n",
    "    global count\n",
    "    global means\n",
    "    global stds\n",
    "    global zmeandata\n",
    "    count = 0\n",
    "    data, means, stds, zmeandata = [], [], [], []\n",
    "    for filename in os.listdir('./Posterior_Data'):\n",
    "        x = []\n",
    "        count += 1\n",
    "        with open('./Posterior_Data/'+filename, \"rt\") as f:\n",
    "            for line in f:\n",
    "                try:\n",
    "                    if len(line.split(',')) == 12:\n",
    "                        x.extend([int(line.split(',')[index])])\n",
    "                    else:\n",
    "                        continue\n",
    "                except:\n",
    "                    continue\n",
    "        data.extend([createHisto(x, 'Sprite '+str(count))])\n",
    "        means.extend([numpy.mean(x)])\n",
    "        stds.extend([numpy.std(x)])\n",
    "        temp = list(numpy.array(x) - numpy.mean(x))\n",
    "        zmeandata.extend([createHisto(temp, 'Sprite '+str(count))])\n",
    "#         print 'Sprite Number '+str(count)\n",
    "#         print '------------------------------'\n",
    "#         print 'Mean: '+str(numpy.mean(x))\n",
    "#         print 'Std: '+str(numpy.std(x)) + '\\n\\n'\n",
    "        \n",
    "    print 'Mean of means: '+str(numpy.mean(means))\n",
    "    print 'Std of means: '+str(numpy.std(means))\n",
    "    print 'Mean of Std\\'s: '+str(numpy.mean(stds))\n",
    "    print 'Std of std\\'s: '+str(numpy.std(stds))\n",
    "    print 'Number functioning: '+str(count)\n",
    "    print 'Number dead: '+str(total-count)"
   ]
  },
  {
   "cell_type": "markdown",
   "metadata": {},
   "source": [
    "## Gyroscope"
   ]
  },
  {
   "cell_type": "markdown",
   "metadata": {},
   "source": [
    "#### X-Measurements"
   ]
  },
  {
   "cell_type": "code",
   "execution_count": 25,
   "metadata": {
    "collapsed": false,
    "scrolled": false
   },
   "outputs": [
    {
     "name": "stdout",
     "output_type": "stream",
     "text": [
      "Mean of means: 504.565848891\n",
      "Std of means: 698.958181588\n",
      "Mean of Std's: 38.0044646605\n",
      "Std of std's: 15.8211558728\n",
      "Number functioning: 40\n",
      "Number dead: 0\n"
     ]
    }
   ],
   "source": [
    "gatherData(1)"
   ]
  },
  {
   "cell_type": "code",
   "execution_count": 26,
   "metadata": {
    "collapsed": false,
    "scrolled": false
   },
   "outputs": [
    {
     "data": {
      "text/html": [
       "<iframe id=\"igraph\" scrolling=\"no\" style=\"border:none;\" seamless=\"seamless\" src=\"https://plot.ly/~v.h.adams/73.embed\" height=\"525px\" width=\"100%\"></iframe>"
      ],
      "text/plain": [
       "<plotly.tools.PlotlyDisplay object>"
      ]
     },
     "execution_count": 26,
     "metadata": {},
     "output_type": "execute_result"
    }
   ],
   "source": [
    "layout.title='Measured Gyroscope x-Values'\n",
    "fig = go.Figure(data=data, layout=layout)\n",
    "py.iplot(fig, filename='sprite_tests_gx')"
   ]
  },
  {
   "cell_type": "code",
   "execution_count": 52,
   "metadata": {
    "collapsed": false
   },
   "outputs": [
    {
     "name": "stdout",
     "output_type": "stream",
     "text": [
      "Mean of means: 147.503366377\n",
      "Std of means: 1059.17380964\n",
      "Mean of Std's: 42.7656773189\n",
      "Std of std's: 24.6995386903\n",
      "Number functioning: 40\n",
      "Number dead: 0\n"
     ]
    }
   ],
   "source": [
    "gatherData(1)"
   ]
  },
  {
   "cell_type": "code",
   "execution_count": 53,
   "metadata": {
    "collapsed": false
   },
   "outputs": [
    {
     "data": {
      "text/html": [
       "<iframe id=\"igraph\" scrolling=\"no\" style=\"border:none;\" seamless=\"seamless\" src=\"https://plot.ly/~v.h.adams/113.embed\" height=\"525px\" width=\"100%\"></iframe>"
      ],
      "text/plain": [
       "<plotly.tools.PlotlyDisplay object>"
      ]
     },
     "execution_count": 53,
     "metadata": {},
     "output_type": "execute_result"
    }
   ],
   "source": [
    "layout.title='Measured Gyroscope x-Values'\n",
    "fig = go.Figure(data=data, layout=layout)\n",
    "py.iplot(fig, filename='sprite_tests_gx_posterior')"
   ]
  },
  {
   "cell_type": "code",
   "execution_count": 27,
   "metadata": {
    "collapsed": false
   },
   "outputs": [
    {
     "data": {
      "text/html": [
       "<iframe id=\"igraph\" scrolling=\"no\" style=\"border:none;\" seamless=\"seamless\" src=\"https://plot.ly/~v.h.adams/75.embed\" height=\"525px\" width=\"100%\"></iframe>"
      ],
      "text/plain": [
       "<plotly.tools.PlotlyDisplay object>"
      ]
     },
     "execution_count": 27,
     "metadata": {},
     "output_type": "execute_result"
    }
   ],
   "source": [
    "layout.title = 'Unbiased Gyroscope x-Values'\n",
    "fig2 = go.Figure(data=zmeandata, layout=layout)\n",
    "py.iplot(fig2, filename='sprite_tests_gx_zm')"
   ]
  },
  {
   "cell_type": "code",
   "execution_count": 28,
   "metadata": {
    "collapsed": false
   },
   "outputs": [
    {
     "data": {
      "text/html": [
       "<iframe id=\"igraph\" scrolling=\"no\" style=\"border:none;\" seamless=\"seamless\" src=\"https://plot.ly/~v.h.adams/115.embed\" height=\"525px\" width=\"100%\"></iframe>"
      ],
      "text/plain": [
       "<plotly.tools.PlotlyDisplay object>"
      ]
     },
     "execution_count": 28,
     "metadata": {},
     "output_type": "execute_result"
    }
   ],
   "source": [
    "layout.title = 'Unbiased Gyroscope x-Values'\n",
    "fig2 = go.Figure(data=zmeandata, layout=layout)\n",
    "py.iplot(fig2, filename='sprite_tests_gx_zm_posterior')"
   ]
  },
  {
   "cell_type": "markdown",
   "metadata": {},
   "source": [
    "#### Y-Measurements"
   ]
  },
  {
   "cell_type": "code",
   "execution_count": 28,
   "metadata": {
    "collapsed": false
   },
   "outputs": [
    {
     "name": "stdout",
     "output_type": "stream",
     "text": [
      "Mean of means: 45.7881632722\n",
      "Std of means: 956.885750505\n",
      "Mean of Std's: 45.4013344332\n",
      "Std of std's: 18.218526426\n",
      "Number functioning: 40\n",
      "Number dead: 0\n"
     ]
    }
   ],
   "source": [
    "gatherData(2)"
   ]
  },
  {
   "cell_type": "code",
   "execution_count": 29,
   "metadata": {
    "collapsed": false
   },
   "outputs": [
    {
     "data": {
      "text/html": [
       "<iframe id=\"igraph\" scrolling=\"no\" style=\"border:none;\" seamless=\"seamless\" src=\"https://plot.ly/~v.h.adams/77.embed\" height=\"525px\" width=\"100%\"></iframe>"
      ],
      "text/plain": [
       "<plotly.tools.PlotlyDisplay object>"
      ]
     },
     "execution_count": 29,
     "metadata": {},
     "output_type": "execute_result"
    }
   ],
   "source": [
    "layout.title='Measured Gyroscope y-Values'\n",
    "fig = go.Figure(data=data, layout=layout)\n",
    "py.iplot(fig, filename='sprite_tests_gy')"
   ]
  },
  {
   "cell_type": "code",
   "execution_count": 30,
   "metadata": {
    "collapsed": false
   },
   "outputs": [
    {
     "data": {
      "text/html": [
       "<iframe id=\"igraph\" scrolling=\"no\" style=\"border:none;\" seamless=\"seamless\" src=\"https://plot.ly/~v.h.adams/79.embed\" height=\"525px\" width=\"100%\"></iframe>"
      ],
      "text/plain": [
       "<plotly.tools.PlotlyDisplay object>"
      ]
     },
     "execution_count": 30,
     "metadata": {},
     "output_type": "execute_result"
    }
   ],
   "source": [
    "layout.title = 'Unbiased Gyroscope y-Values'\n",
    "fig2 = go.Figure(data=zmeandata, layout=layout)\n",
    "py.iplot(fig2, filename='sprite_tests_gy_zm')"
   ]
  },
  {
   "cell_type": "markdown",
   "metadata": {},
   "source": [
    "#### Z-Measurements"
   ]
  },
  {
   "cell_type": "code",
   "execution_count": 31,
   "metadata": {
    "collapsed": false
   },
   "outputs": [
    {
     "name": "stdout",
     "output_type": "stream",
     "text": [
      "Mean of means: 168.635759359\n",
      "Std of means: 1123.81009974\n",
      "Mean of Std's: 33.3752903088\n",
      "Std of std's: 10.5315361453\n",
      "Number functioning: 40\n",
      "Number dead: 0\n"
     ]
    }
   ],
   "source": [
    "gatherData(3)"
   ]
  },
  {
   "cell_type": "code",
   "execution_count": 32,
   "metadata": {
    "collapsed": false
   },
   "outputs": [
    {
     "data": {
      "text/html": [
       "<iframe id=\"igraph\" scrolling=\"no\" style=\"border:none;\" seamless=\"seamless\" src=\"https://plot.ly/~v.h.adams/81.embed\" height=\"525px\" width=\"100%\"></iframe>"
      ],
      "text/plain": [
       "<plotly.tools.PlotlyDisplay object>"
      ]
     },
     "execution_count": 32,
     "metadata": {},
     "output_type": "execute_result"
    }
   ],
   "source": [
    "layout.title='Measured Gyroscope z-Values'\n",
    "fig = go.Figure(data=data, layout=layout)\n",
    "py.iplot(fig, filename='sprite_tests_gz')"
   ]
  },
  {
   "cell_type": "code",
   "execution_count": 33,
   "metadata": {
    "collapsed": false
   },
   "outputs": [
    {
     "data": {
      "text/html": [
       "<iframe id=\"igraph\" scrolling=\"no\" style=\"border:none;\" seamless=\"seamless\" src=\"https://plot.ly/~v.h.adams/83.embed\" height=\"525px\" width=\"100%\"></iframe>"
      ],
      "text/plain": [
       "<plotly.tools.PlotlyDisplay object>"
      ]
     },
     "execution_count": 33,
     "metadata": {},
     "output_type": "execute_result"
    }
   ],
   "source": [
    "layout.title = 'Unbiased Gyroscope z-Values'\n",
    "fig2 = go.Figure(data=zmeandata, layout=layout)\n",
    "py.iplot(fig2, filename='sprite_tests_gz_zm')"
   ]
  },
  {
   "cell_type": "markdown",
   "metadata": {},
   "source": [
    "## Accelerometer"
   ]
  },
  {
   "cell_type": "markdown",
   "metadata": {},
   "source": [
    "#### X-Measurements"
   ]
  },
  {
   "cell_type": "code",
   "execution_count": 34,
   "metadata": {
    "collapsed": false
   },
   "outputs": [
    {
     "name": "stdout",
     "output_type": "stream",
     "text": [
      "Mean of means: 400.077493554\n",
      "Std of means: 22.4274809805\n",
      "Mean of Std's: 1.04917265181\n",
      "Std of std's: 0.120670087416\n",
      "Number functioning: 40\n",
      "Number dead: 0\n"
     ]
    }
   ],
   "source": [
    "gatherData(4)"
   ]
  },
  {
   "cell_type": "code",
   "execution_count": 35,
   "metadata": {
    "collapsed": false
   },
   "outputs": [
    {
     "data": {
      "text/html": [
       "<iframe id=\"igraph\" scrolling=\"no\" style=\"border:none;\" seamless=\"seamless\" src=\"https://plot.ly/~v.h.adams/85.embed\" height=\"525px\" width=\"100%\"></iframe>"
      ],
      "text/plain": [
       "<plotly.tools.PlotlyDisplay object>"
      ]
     },
     "execution_count": 35,
     "metadata": {},
     "output_type": "execute_result"
    }
   ],
   "source": [
    "layout.title='Measured Accelerometer x-Values'\n",
    "fig = go.Figure(data=data, layout=layout)\n",
    "py.iplot(fig, filename='sprite_tests_ax')"
   ]
  },
  {
   "cell_type": "code",
   "execution_count": 36,
   "metadata": {
    "collapsed": false
   },
   "outputs": [
    {
     "data": {
      "text/html": [
       "<iframe id=\"igraph\" scrolling=\"no\" style=\"border:none;\" seamless=\"seamless\" src=\"https://plot.ly/~v.h.adams/87.embed\" height=\"525px\" width=\"100%\"></iframe>"
      ],
      "text/plain": [
       "<plotly.tools.PlotlyDisplay object>"
      ]
     },
     "execution_count": 36,
     "metadata": {},
     "output_type": "execute_result"
    }
   ],
   "source": [
    "layout.title = 'Unbiased Accelerometer x-Values'\n",
    "fig2 = go.Figure(data=zmeandata, layout=layout)\n",
    "py.iplot(fig2, filename='sprite_tests_ax_zm')"
   ]
  },
  {
   "cell_type": "markdown",
   "metadata": {},
   "source": [
    "#### Y-Measurements"
   ]
  },
  {
   "cell_type": "code",
   "execution_count": 37,
   "metadata": {
    "collapsed": false
   },
   "outputs": [
    {
     "name": "stdout",
     "output_type": "stream",
     "text": [
      "Mean of means: -16.3370312992\n",
      "Std of means: 12.0381621181\n",
      "Mean of Std's: 0.648596517151\n",
      "Std of std's: 0.0604201144231\n",
      "Number functioning: 40\n",
      "Number dead: 0\n"
     ]
    }
   ],
   "source": [
    "gatherData(5)"
   ]
  },
  {
   "cell_type": "code",
   "execution_count": 38,
   "metadata": {
    "collapsed": false
   },
   "outputs": [
    {
     "data": {
      "text/html": [
       "<iframe id=\"igraph\" scrolling=\"no\" style=\"border:none;\" seamless=\"seamless\" src=\"https://plot.ly/~v.h.adams/89.embed\" height=\"525px\" width=\"100%\"></iframe>"
      ],
      "text/plain": [
       "<plotly.tools.PlotlyDisplay object>"
      ]
     },
     "execution_count": 38,
     "metadata": {},
     "output_type": "execute_result"
    }
   ],
   "source": [
    "layout.title='Measured Accelerometer y-Values'\n",
    "fig = go.Figure(data=data, layout=layout)\n",
    "py.iplot(fig, filename='sprite_tests_ay')"
   ]
  },
  {
   "cell_type": "code",
   "execution_count": 39,
   "metadata": {
    "collapsed": false
   },
   "outputs": [
    {
     "data": {
      "text/html": [
       "<iframe id=\"igraph\" scrolling=\"no\" style=\"border:none;\" seamless=\"seamless\" src=\"https://plot.ly/~v.h.adams/91.embed\" height=\"525px\" width=\"100%\"></iframe>"
      ],
      "text/plain": [
       "<plotly.tools.PlotlyDisplay object>"
      ]
     },
     "execution_count": 39,
     "metadata": {},
     "output_type": "execute_result"
    }
   ],
   "source": [
    "layout.title = 'Unbiased Accelerometer y-Values'\n",
    "fig2 = go.Figure(data=zmeandata, layout=layout)\n",
    "py.iplot(fig2, filename='sprite_tests_ay_zm')"
   ]
  },
  {
   "cell_type": "markdown",
   "metadata": {},
   "source": [
    "#### Z-Measurements"
   ]
  },
  {
   "cell_type": "code",
   "execution_count": 40,
   "metadata": {
    "collapsed": false
   },
   "outputs": [
    {
     "name": "stdout",
     "output_type": "stream",
     "text": [
      "Mean of means: -927.918580783\n",
      "Std of means: 18.5574060912\n",
      "Mean of Std's: 2.2593895557\n",
      "Std of std's: 0.497775163618\n",
      "Number functioning: 40\n",
      "Number dead: 0\n"
     ]
    }
   ],
   "source": [
    "gatherData(6)"
   ]
  },
  {
   "cell_type": "code",
   "execution_count": 41,
   "metadata": {
    "collapsed": false
   },
   "outputs": [
    {
     "data": {
      "text/html": [
       "<iframe id=\"igraph\" scrolling=\"no\" style=\"border:none;\" seamless=\"seamless\" src=\"https://plot.ly/~v.h.adams/93.embed\" height=\"525px\" width=\"100%\"></iframe>"
      ],
      "text/plain": [
       "<plotly.tools.PlotlyDisplay object>"
      ]
     },
     "execution_count": 41,
     "metadata": {},
     "output_type": "execute_result"
    }
   ],
   "source": [
    "layout.title='Measured Accelerometer z-Values'\n",
    "fig = go.Figure(data=data, layout=layout)\n",
    "py.iplot(fig, filename='sprite_tests_az')"
   ]
  },
  {
   "cell_type": "code",
   "execution_count": 42,
   "metadata": {
    "collapsed": false
   },
   "outputs": [
    {
     "data": {
      "text/html": [
       "<iframe id=\"igraph\" scrolling=\"no\" style=\"border:none;\" seamless=\"seamless\" src=\"https://plot.ly/~v.h.adams/95.embed\" height=\"525px\" width=\"100%\"></iframe>"
      ],
      "text/plain": [
       "<plotly.tools.PlotlyDisplay object>"
      ]
     },
     "execution_count": 42,
     "metadata": {},
     "output_type": "execute_result"
    }
   ],
   "source": [
    "layout.title = 'Unbiased Accelerometer z-Values'\n",
    "fig2 = go.Figure(data=zmeandata, layout=layout)\n",
    "py.iplot(fig2, filename='sprite_tests_az_zm')"
   ]
  },
  {
   "cell_type": "markdown",
   "metadata": {},
   "source": [
    "## Magnetometer"
   ]
  },
  {
   "cell_type": "markdown",
   "metadata": {},
   "source": [
    "#### X-Measurements"
   ]
  },
  {
   "cell_type": "code",
   "execution_count": 43,
   "metadata": {
    "collapsed": false
   },
   "outputs": [
    {
     "name": "stdout",
     "output_type": "stream",
     "text": [
      "Mean of means: 716.096493642\n",
      "Std of means: 136.386271579\n",
      "Mean of Std's: 10.8768854137\n",
      "Std of std's: 0.66877103902\n",
      "Number functioning: 40\n",
      "Number dead: 0\n"
     ]
    }
   ],
   "source": [
    "gatherData(7)"
   ]
  },
  {
   "cell_type": "code",
   "execution_count": 44,
   "metadata": {
    "collapsed": false
   },
   "outputs": [
    {
     "data": {
      "text/html": [
       "<iframe id=\"igraph\" scrolling=\"no\" style=\"border:none;\" seamless=\"seamless\" src=\"https://plot.ly/~v.h.adams/97.embed\" height=\"525px\" width=\"100%\"></iframe>"
      ],
      "text/plain": [
       "<plotly.tools.PlotlyDisplay object>"
      ]
     },
     "execution_count": 44,
     "metadata": {},
     "output_type": "execute_result"
    }
   ],
   "source": [
    "layout.title='Measured Magnetometer x-Values'\n",
    "fig = go.Figure(data=data, layout=layout)\n",
    "py.iplot(fig, filename='sprite_tests_mx')"
   ]
  },
  {
   "cell_type": "code",
   "execution_count": 45,
   "metadata": {
    "collapsed": false
   },
   "outputs": [
    {
     "data": {
      "text/html": [
       "<iframe id=\"igraph\" scrolling=\"no\" style=\"border:none;\" seamless=\"seamless\" src=\"https://plot.ly/~v.h.adams/87.embed\" height=\"525px\" width=\"100%\"></iframe>"
      ],
      "text/plain": [
       "<plotly.tools.PlotlyDisplay object>"
      ]
     },
     "execution_count": 45,
     "metadata": {},
     "output_type": "execute_result"
    }
   ],
   "source": [
    "layout.title = 'Unbiased Accelerometer x-Values'\n",
    "fig2 = go.Figure(data=zmeandata, layout=layout)\n",
    "py.iplot(fig2, filename='sprite_tests_ax_zm')"
   ]
  },
  {
   "cell_type": "markdown",
   "metadata": {},
   "source": [
    "#### Y-Measurements"
   ]
  },
  {
   "cell_type": "code",
   "execution_count": 46,
   "metadata": {
    "collapsed": false
   },
   "outputs": [
    {
     "name": "stdout",
     "output_type": "stream",
     "text": [
      "Mean of means: 49.2828393863\n",
      "Std of means: 134.720174355\n",
      "Mean of Std's: 7.22869954899\n",
      "Std of std's: 0.460715779577\n",
      "Number functioning: 40\n",
      "Number dead: 0\n"
     ]
    }
   ],
   "source": [
    "gatherData(8)"
   ]
  },
  {
   "cell_type": "code",
   "execution_count": 47,
   "metadata": {
    "collapsed": false
   },
   "outputs": [
    {
     "data": {
      "text/html": [
       "<iframe id=\"igraph\" scrolling=\"no\" style=\"border:none;\" seamless=\"seamless\" src=\"https://plot.ly/~v.h.adams/99.embed\" height=\"525px\" width=\"100%\"></iframe>"
      ],
      "text/plain": [
       "<plotly.tools.PlotlyDisplay object>"
      ]
     },
     "execution_count": 47,
     "metadata": {},
     "output_type": "execute_result"
    }
   ],
   "source": [
    "layout.title='Measured Magnetometer y-Values'\n",
    "fig = go.Figure(data=data, layout=layout)\n",
    "py.iplot(fig, filename='sprite_tests_my')"
   ]
  },
  {
   "cell_type": "code",
   "execution_count": 48,
   "metadata": {
    "collapsed": false
   },
   "outputs": [
    {
     "data": {
      "text/html": [
       "<iframe id=\"igraph\" scrolling=\"no\" style=\"border:none;\" seamless=\"seamless\" src=\"https://plot.ly/~v.h.adams/91.embed\" height=\"525px\" width=\"100%\"></iframe>"
      ],
      "text/plain": [
       "<plotly.tools.PlotlyDisplay object>"
      ]
     },
     "execution_count": 48,
     "metadata": {},
     "output_type": "execute_result"
    }
   ],
   "source": [
    "layout.title = 'Unbiased Accelerometer y-Values'\n",
    "fig2 = go.Figure(data=zmeandata, layout=layout)\n",
    "py.iplot(fig2, filename='sprite_tests_ay_zm')"
   ]
  },
  {
   "cell_type": "markdown",
   "metadata": {},
   "source": [
    "#### Z-Measurements"
   ]
  },
  {
   "cell_type": "code",
   "execution_count": 49,
   "metadata": {
    "collapsed": false
   },
   "outputs": [
    {
     "name": "stdout",
     "output_type": "stream",
     "text": [
      "Mean of means: 180.599937903\n",
      "Std of means: 71.0376932958\n",
      "Mean of Std's: 6.15021658588\n",
      "Std of std's: 0.371342388016\n",
      "Number functioning: 40\n",
      "Number dead: 0\n"
     ]
    }
   ],
   "source": [
    "gatherData(9)"
   ]
  },
  {
   "cell_type": "code",
   "execution_count": 50,
   "metadata": {
    "collapsed": false
   },
   "outputs": [
    {
     "data": {
      "text/html": [
       "<iframe id=\"igraph\" scrolling=\"no\" style=\"border:none;\" seamless=\"seamless\" src=\"https://plot.ly/~v.h.adams/101.embed\" height=\"525px\" width=\"100%\"></iframe>"
      ],
      "text/plain": [
       "<plotly.tools.PlotlyDisplay object>"
      ]
     },
     "execution_count": 50,
     "metadata": {},
     "output_type": "execute_result"
    }
   ],
   "source": [
    "layout.title='Measured Magnetometer z-Values'\n",
    "fig = go.Figure(data=data, layout=layout)\n",
    "py.iplot(fig, filename='sprite_tests_mz')"
   ]
  },
  {
   "cell_type": "code",
   "execution_count": 51,
   "metadata": {
    "collapsed": false
   },
   "outputs": [
    {
     "data": {
      "text/html": [
       "<iframe id=\"igraph\" scrolling=\"no\" style=\"border:none;\" seamless=\"seamless\" src=\"https://plot.ly/~v.h.adams/95.embed\" height=\"525px\" width=\"100%\"></iframe>"
      ],
      "text/plain": [
       "<plotly.tools.PlotlyDisplay object>"
      ]
     },
     "execution_count": 51,
     "metadata": {},
     "output_type": "execute_result"
    }
   ],
   "source": [
    "layout.title = 'Unbiased Accelerometer z-Values'\n",
    "fig2 = go.Figure(data=zmeandata, layout=layout)\n",
    "py.iplot(fig2, filename='sprite_tests_az_zm')"
   ]
  },
  {
   "cell_type": "markdown",
   "metadata": {},
   "source": [
    "## Phototransistors"
   ]
  },
  {
   "cell_type": "markdown",
   "metadata": {},
   "source": [
    "#### Rear"
   ]
  },
  {
   "cell_type": "code",
   "execution_count": 52,
   "metadata": {
    "collapsed": false
   },
   "outputs": [
    {
     "name": "stdout",
     "output_type": "stream",
     "text": [
      "Mean of means: 165.347115432\n",
      "Std of means: 25.3976280936\n",
      "Mean of Std's: 4.56545452219\n",
      "Std of std's: 2.28221604837\n",
      "Number functioning: 40\n",
      "Number dead: 0\n"
     ]
    }
   ],
   "source": [
    "gatherData(10)"
   ]
  },
  {
   "cell_type": "code",
   "execution_count": 53,
   "metadata": {
    "collapsed": false
   },
   "outputs": [
    {
     "data": {
      "text/html": [
       "<iframe id=\"igraph\" scrolling=\"no\" style=\"border:none;\" seamless=\"seamless\" src=\"https://plot.ly/~v.h.adams/105.embed\" height=\"525px\" width=\"100%\"></iframe>"
      ],
      "text/plain": [
       "<plotly.tools.PlotlyDisplay object>"
      ]
     },
     "execution_count": 53,
     "metadata": {},
     "output_type": "execute_result"
    }
   ],
   "source": [
    "layout.title='Measured Rear Light Sensor'\n",
    "fig = go.Figure(data=data, layout=layout)\n",
    "py.iplot(fig, filename='sprite_tests_lr')"
   ]
  },
  {
   "cell_type": "code",
   "execution_count": 54,
   "metadata": {
    "collapsed": false
   },
   "outputs": [
    {
     "data": {
      "text/html": [
       "<iframe id=\"igraph\" scrolling=\"no\" style=\"border:none;\" seamless=\"seamless\" src=\"https://plot.ly/~v.h.adams/107.embed\" height=\"525px\" width=\"100%\"></iframe>"
      ],
      "text/plain": [
       "<plotly.tools.PlotlyDisplay object>"
      ]
     },
     "execution_count": 54,
     "metadata": {},
     "output_type": "execute_result"
    }
   ],
   "source": [
    "layout.title = 'Unbiased Rear Light Sensor'\n",
    "fig2 = go.Figure(data=zmeandata, layout=layout)\n",
    "py.iplot(fig2, filename='sprite_tests_lr_zm')"
   ]
  },
  {
   "cell_type": "markdown",
   "metadata": {},
   "source": [
    "#### Front"
   ]
  },
  {
   "cell_type": "code",
   "execution_count": 55,
   "metadata": {
    "collapsed": false
   },
   "outputs": [
    {
     "name": "stdout",
     "output_type": "stream",
     "text": [
      "Mean of means: 2.71150939673\n",
      "Std of means: 0.980065188618\n",
      "Mean of Std's: 2.62227648698\n",
      "Std of std's: 0.323748744816\n",
      "Number functioning: 40\n",
      "Number dead: 0\n"
     ]
    }
   ],
   "source": [
    "gatherData(11)"
   ]
  },
  {
   "cell_type": "code",
   "execution_count": 56,
   "metadata": {
    "collapsed": false
   },
   "outputs": [
    {
     "data": {
      "text/html": [
       "<iframe id=\"igraph\" scrolling=\"no\" style=\"border:none;\" seamless=\"seamless\" src=\"https://plot.ly/~v.h.adams/103.embed\" height=\"525px\" width=\"100%\"></iframe>"
      ],
      "text/plain": [
       "<plotly.tools.PlotlyDisplay object>"
      ]
     },
     "execution_count": 56,
     "metadata": {},
     "output_type": "execute_result"
    }
   ],
   "source": [
    "layout.title='Measured Front Light Sensor'\n",
    "fig = go.Figure(data=data, layout=layout)\n",
    "py.iplot(fig, filename='sprite_tests_lf')"
   ]
  },
  {
   "cell_type": "code",
   "execution_count": 57,
   "metadata": {
    "collapsed": false
   },
   "outputs": [
    {
     "data": {
      "text/html": [
       "<iframe id=\"igraph\" scrolling=\"no\" style=\"border:none;\" seamless=\"seamless\" src=\"https://plot.ly/~v.h.adams/109.embed\" height=\"525px\" width=\"100%\"></iframe>"
      ],
      "text/plain": [
       "<plotly.tools.PlotlyDisplay object>"
      ]
     },
     "execution_count": 57,
     "metadata": {},
     "output_type": "execute_result"
    }
   ],
   "source": [
    "layout.title = 'Unbiased Front Light Sensor'\n",
    "fig2 = go.Figure(data=zmeandata, layout=layout)\n",
    "py.iplot(fig2, filename='sprite_tests_lf_zm')"
   ]
  },
  {
   "cell_type": "code",
   "execution_count": null,
   "metadata": {
    "collapsed": true
   },
   "outputs": [],
   "source": []
  }
 ],
 "metadata": {
  "kernelspec": {
   "display_name": "Python 2",
   "language": "python",
   "name": "python2"
  },
  "language_info": {
   "codemirror_mode": {
    "name": "ipython",
    "version": 2
   },
   "file_extension": ".py",
   "mimetype": "text/x-python",
   "name": "python",
   "nbconvert_exporter": "python",
   "pygments_lexer": "ipython2",
   "version": "2.7.9"
  }
 },
 "nbformat": 4,
 "nbformat_minor": 2
}
