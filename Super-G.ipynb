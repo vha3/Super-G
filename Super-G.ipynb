{
 "cells": [
  {
   "cell_type": "markdown",
   "metadata": {},
   "source": [
    "# Super-G Sprite Testing"
   ]
  },
  {
   "cell_type": "markdown",
   "metadata": {},
   "source": [
    "###### V. Hunter Adams"
   ]
  },
  {
   "cell_type": "code",
   "execution_count": 2,
   "metadata": {
    "collapsed": false
   },
   "outputs": [],
   "source": [
    "import serial\n",
    "import numpy\n",
    "from matplotlib import pyplot as plt\n",
    "from IPython.display import clear_output\n",
    "from IPython.display import Image\n",
    "from IPython.display import Latex\n",
    "import matplotlib.pyplot as plt\n",
    "%matplotlib inline\n",
    "from IPython.core.display import HTML \n",
    "from IPython.display import HTML\n",
    "from ipywidgets import *\n",
    "import plotly.plotly as py\n",
    "import plotly\n",
    "import plotly.graph_objs as go\n",
    "import pandas as pd\n",
    "import plotly.tools as tls\n",
    "import urllib2\n",
    "tls.set_credentials_file(username='v.h.adams', api_key='werEw55EhyYuY92HZtTt')"
   ]
  },
  {
   "cell_type": "markdown",
   "metadata": {},
   "source": [
    "## Experimental Setup"
   ]
  },
  {
   "cell_type": "markdown",
   "metadata": {},
   "source": [
    "Header pins were soldered onto each of the 40 Sprites pictured below so that each could be snapped into a breadboard. The breadboard connects the Sprite to an FTDI, which is in turn connected to the computer via USB. Each Sprite was loaded with a variation of the software shown below (the only variation being the name of each Sprite, a number between 0 and 40). 200 datapoints from each sensor were collected from each Sprite. Data will be gathered in precisely the same manner after g-testing to characterize any degradatation that may have taken place."
   ]
  },
  {
   "cell_type": "markdown",
   "metadata": {},
   "source": [
    "#### Hardware"
   ]
  },
  {
   "cell_type": "markdown",
   "metadata": {},
   "source": [
    "<img src=\"Sprites.png\">"
   ]
  },
  {
   "cell_type": "markdown",
   "metadata": {},
   "source": [
    "<img src=\"Breadboard.png\">"
   ]
  },
  {
   "cell_type": "markdown",
   "metadata": {},
   "source": [
    "#### Software"
   ]
  },
  {
   "cell_type": "markdown",
   "metadata": {},
   "source": [
    "```C\n",
    "\n",
    "#include <Arduino.h>\n",
    "#include <Wire.h>\n",
    "#include \"HardwareSerial.h\"\n",
    "#include <LSM9DS1.h>\n",
    "\n",
    "int back_sunsensor=13;\n",
    "int front_sunsensor=8;\n",
    "\n",
    "int sprite_name=40; // Different for each Sprite\n",
    "\n",
    "// the setup function runs once when you press reset or power the board\n",
    "void setup() {\n",
    "    Wire.begin();\n",
    "    smeGyroscope.begin();\n",
    "    smeAccelerometer.begin();\n",
    "    smeMagnetic.begin();\n",
    "    Serial.begin(9600);\n",
    "}\n",
    "\n",
    "void printAxis(int x, int y, int z, int xa, int ya, int za, int xm, int ym, int zm, int front, int back) {\n",
    "    Serial.print(sprite_name, DEC);\n",
    "    Serial.print(\",\");\n",
    "    Serial.print(x, DEC);\n",
    "    Serial.print(\",\");\n",
    "    Serial.print(y, DEC);\n",
    "    Serial.print(\",\");\n",
    "    Serial.print(z, DEC);\n",
    "    Serial.print(\",\");\n",
    "    Serial.print(xa, DEC);\n",
    "    Serial.print(\",\");\n",
    "    Serial.print(ya, DEC);\n",
    "    Serial.print(\",\");\n",
    "    Serial.print(za, DEC);\n",
    "    Serial.print(\",\");\n",
    "    Serial.print(xm, DEC);\n",
    "    Serial.print(\",\");\n",
    "    Serial.print(ym, DEC);\n",
    "    Serial.print(\",\");\n",
    "    Serial.print(zm, DEC);\n",
    "    Serial.print(\",\");\n",
    "    Serial.print(front, DEC);\n",
    "    Serial.print(\",\");\n",
    "    Serial.println(back, DEC);\n",
    "}\n",
    "\n",
    "// the loop function runs over and over again forever\n",
    "void loop() {\n",
    "\n",
    "    int x = 0;\n",
    "    int y = 0;\n",
    "    int z = 0;\n",
    "    int xa = 0;\n",
    "    int ya = 0;\n",
    "    int za = 0;\n",
    "    int xm = 0;\n",
    "    int ym = 0;\n",
    "    int zm = 0;\n",
    "    int front = 0;\n",
    "    int back = 0;\n",
    "\n",
    "    x = smeGyroscope.readX();\n",
    "    y = smeGyroscope.readY();\n",
    "    z = smeGyroscope.readZ();\n",
    "    xa = smeAccelerometer.readX();\n",
    "    ya = smeAccelerometer.readY();\n",
    "    za = smeAccelerometer.readZ();\n",
    "    xm = smeMagnetic.readX();\n",
    "    ym = smeMagnetic.readY();\n",
    "    zm = smeMagnetic.readZ();\n",
    "    front = analogRead(front_sunsensor);\n",
    "    back = analogRead(back_sunsensor);\n",
    "\n",
    "//    Serial.print(\"Gyroscope     [mdps]    :\");\n",
    "    printAxis(x, y, z, xa, ya, za, xm, ym, zm, front, back);\n",
    "\n",
    "    digitalWrite(LED, LOW);\n",
    "    delay(10);\n",
    "\n",
    "    digitalWrite(LED, HIGH);    // turn the LED on\n",
    "    delay(10);            // wait for a second\n",
    "\n",
    "}\n",
    "```"
   ]
  },
  {
   "cell_type": "markdown",
   "metadata": {},
   "source": [
    "## Data Acquisition"
   ]
  },
  {
   "cell_type": "markdown",
   "metadata": {},
   "source": [
    "Function that writes serial data from Sprite to a file."
   ]
  },
  {
   "cell_type": "code",
   "execution_count": 48,
   "metadata": {
    "collapsed": false,
    "scrolled": true
   },
   "outputs": [],
   "source": [
    "ser = serial.Serial('/dev/cu.usbserial-DN01AWD9', 9600)\n",
    "filename=\"./Posterior_Data/sprite_50.txt\"\n",
    "\n",
    "datafile=open(filename, 'a')\n",
    "count = 0;\n",
    "while count < 200:\n",
    "    datafile=open(filename, 'a')\n",
    "    data = ser.readline().rstrip()\n",
    "    datafile.write(data)\n",
    "    datafile.write('\\n')\n",
    "    print data\n",
    "    count += 1\n",
    "    datafile.close()\n",
    "datafile.close()\n",
    "ser.close()\n",
    "clear_output()"
   ]
  },
  {
   "cell_type": "markdown",
   "metadata": {},
   "source": [
    "## Helper Functions and Global Variables"
   ]
  },
  {
   "cell_type": "markdown",
   "metadata": {},
   "source": [
    "Dictionary for holding all data"
   ]
  },
  {
   "cell_type": "code",
   "execution_count": 150,
   "metadata": {
    "collapsed": true
   },
   "outputs": [],
   "source": [
    "data_dictionary = dict([('gx prior',[]), ('gy prior',[]),\n",
    "                        ('gz prior',[]), ('ax prior',[]),\n",
    "                        ('ay prior',[]), ('az prior',[]),\n",
    "                        ('mx prior',[]), ('my prior',[]),\n",
    "                        ('mz prior',[]), ('sun front prior',[]),\n",
    "                        ('sun rear prior',[]), ('gx air prior',[]),\n",
    "                        ('gy air prior',[]), ('gz air prior',[]),\n",
    "                        ('ax air prior',[]), ('ay air prior',[]),\n",
    "                        ('az air prior',[]), ('mx air prior',[]),\n",
    "                        ('my air prior',[]),('mz air prior',[]),\n",
    "                        ('sun front air prior',[]), ('sun rear air prior',[]),\n",
    "                        ('gx beads prior',[]), ('gy beads prior',[]),\n",
    "                        ('gz beads prior',[]), ('ax beads prior',[]),\n",
    "                        ('ay beads prior',[]),('az beads prior',[]),\n",
    "                        ('mx beads prior',[]), ('my beads prior',[]),\n",
    "                        ('mz beads prior',[]), ('sun front beads prior',[]),\n",
    "                        ('sun rear beads prior',[]),('gx wax prior',[]),\n",
    "                        ('gy wax prior',[]),('gz wax prior',[]),\n",
    "                        ('ax wax prior',[]), ('ay wax prior',[]),\n",
    "                        ('az wax prior',[]), ('mx wax prior',[]),\n",
    "                        ('my wax prior',[]),('mz wax prior',[]),\n",
    "                        ('sun front wax prior',[]), ('sun rear wax prior',[]),\n",
    "                        ('gx wcs8 prior',[]), ('gy wcs8 prior',[]),\n",
    "                        ('gz wcs8 prior',[]), ('ax wcs8 prior',[]),\n",
    "                        ('ay wcs8 prior',[]),('az wcs8 prior',[]),\n",
    "                        ('mx wcs8 prior',[]), ('my wcs8 prior',[]),\n",
    "                        ('mz wcs8 prior',[]), ('sun front wcs8 prior',[]),\n",
    "                        ('sun rear wcs8 prior',[]),('gx regolith prior',[]),\n",
    "                        ('gy regolith prior',[]),('gz regolith prior',[]),\n",
    "                        ('ax regolith prior',[]), ('ay regolith prior',[]),\n",
    "                        ('az regolith prior',[]), ('mx regolith prior',[]),\n",
    "                        ('my regolith prior',[]),('mz regolith prior',[]),\n",
    "                        ('sun front regolith prior',[]),('sun rear regolith prior',[]),\n",
    "                        ('gx air posterior',[]), ('gy air posterior',[]),\n",
    "                        ('gz air posterior',[]), ('ax air posterior',[]),\n",
    "                        ('ay air posterior',[]),('az air posterior',[]),\n",
    "                        ('mx air posterior',[]), ('my air posterior',[]),\n",
    "                        ('mz air posterior',[]), ('sun front air posterior',[]),\n",
    "                        ('sun rear air posterior',[]),('gx beads posterior',[]),\n",
    "                        ('gy beads posterior',[]),('gz beads posterior',[]),\n",
    "                        ('ax beads posterior',[]), ('ay beads posterior',[]),\n",
    "                        ('az beads posterior',[]), ('mx beads posterior',[]),\n",
    "                        ('my beads posterior',[]),('mz beads posterior',[]),\n",
    "                        ('sun front beads posterior',[]), ('sun rear beads posterior',[]),\n",
    "                        ('gx wax posterior',[]), ('gy wax posterior',[]),\n",
    "                        ('gz wax posterior',[]), ('ax wax posterior',[]),\n",
    "                        ('ay wax posterior',[]),('az wax posterior',[]),\n",
    "                        ('mx wax posterior',[]), ('my wax posterior',[]),\n",
    "                        ('mz wax posterior',[]), ('sun front wax posterior',[]),\n",
    "                        ('sun rear wax posterior',[]),('gx wcs8 posterior',[]),\n",
    "                        ('gy wcs8 posterior',[]),('gz wcs8 posterior',[]),\n",
    "                        ('ax wcs8 posterior',[]), ('ay wcs8 posterior',[]),\n",
    "                        ('az wcs8 posterior',[]), ('mx wcs8 posterior',[]),\n",
    "                        ('my wcs8 posterior',[]),('mz wcs8 posterior',[]),\n",
    "                        ('sun front wcs8 posterior',[]), ('sun rear wcs8 posterior',[]),\n",
    "                        ('gx regolith posterior',[]), ('gy regolith posterior',[]),\n",
    "                        ('gz regolith posterior',[]), ('ax regolith posterior',[]),\n",
    "                        ('ay regolith posterior',[]),('az regolith posterior',[]),\n",
    "                        ('mx regolith posterior',[]), ('my regolith posterior',[]),\n",
    "                        ('mz regolith posterior',[]), ('sun front regolith posterior',[]),\n",
    "                        ('sun rear regolith posterior',[])\n",
    "                       ])"
   ]
  },
  {
   "cell_type": "markdown",
   "metadata": {},
   "source": [
    "Indices representing media of impact:"
   ]
  },
  {
   "cell_type": "code",
   "execution_count": 151,
   "metadata": {
    "collapsed": false
   },
   "outputs": [],
   "source": [
    "air      = numpy.array([9,10,15,16,22,21])\n",
    "beads    = numpy.array([11,12,17,18,24,23])\n",
    "wax      = numpy.array([1,2,3,4,7,8,5,6])\n",
    "wcs8     = numpy.array([13,14,20,19,26,25,39,40])\n",
    "regolith = numpy.array([28,27,29,30,31,32,33,34,35,36,37,38])"
   ]
  },
  {
   "cell_type": "markdown",
   "metadata": {},
   "source": [
    "Create a function that builds a histogram object:"
   ]
  },
  {
   "cell_type": "code",
   "execution_count": 152,
   "metadata": {
    "collapsed": true
   },
   "outputs": [],
   "source": [
    "def createHisto(data, label):\n",
    "    return go.Histogram(\n",
    "                x=data,\n",
    "                histnorm='probability',\n",
    "                name=label,\n",
    "                autobinx=True,\n",
    "                opacity=0.75\n",
    "    )"
   ]
  },
  {
   "cell_type": "markdown",
   "metadata": {},
   "source": [
    "Store g load for each chip:"
   ]
  },
  {
   "cell_type": "code",
   "execution_count": 153,
   "metadata": {
    "collapsed": true
   },
   "outputs": [],
   "source": [
    "gs = [5144.51, 5144.51, 24878.49, 26509.21, 26509.21,\n",
    "      26509.21, 23352.08, 23352.08, 5170.65, 5170.65,\n",
    "      5311.5, 5311.5, 5225.07, 5225.07, 25143.12,\n",
    "      25143.12, 24390.32, 24390.32, 24394.86, 24394.86,\n",
    "      25553.67, 25553.67, 27048.34, 27048.34, 22894.05,\n",
    "      22894.05, 5057.01, 5057.01, 10192.45, 10192.45,\n",
    "      15630.66, 15630.66, 20100.79, 20100.79, 25714.53,\n",
    "      25714.53, 26533.22, 26533.22, 27116.63, 27116.63]"
   ]
  },
  {
   "cell_type": "markdown",
   "metadata": {},
   "source": [
    "Global variables manipulated during histogram construction, and general layout object:"
   ]
  },
  {
   "cell_type": "code",
   "execution_count": 163,
   "metadata": {
    "collapsed": false
   },
   "outputs": [],
   "source": [
    "layout = go.Layout(\n",
    "    barmode='stack',\n",
    "    xaxis=dict(\n",
    "        title='Measured Value'\n",
    "    ),\n",
    "    yaxis=dict(\n",
    "        title='Probability'\n",
    "    ),\n",
    "    bargap=0.1,\n",
    "    bargroupgap=0.1\n",
    ")"
   ]
  },
  {
   "cell_type": "markdown",
   "metadata": {},
   "source": [
    "Function for extracting data in specified line location from all files in directory:"
   ]
  },
  {
   "cell_type": "code",
   "execution_count": 155,
   "metadata": {
    "collapsed": true
   },
   "outputs": [],
   "source": [
    "def gatherData():\n",
    "    global data_dictionary\n",
    "    count = 0\n",
    "    for filename in os.listdir('./Posterior_Data'):\n",
    "        gx, gy, gz = [[],[],[]],  [[],[],[]],  [[],[],[]]\n",
    "        ax, ay, az = [[],[],[]],  [[],[],[]],  [[],[],[]]\n",
    "        mx, my, mz = [[],[],[]],  [[],[],[]],  [[],[],[]]\n",
    "        lf, lb = [[],[],[]], [[],[],[]]\n",
    "        count += 1\n",
    "        with open('./Prior_Data/'+filename, \"rt\") as f:\n",
    "            for line in f:\n",
    "                try:\n",
    "                    if len(line.split(',')) == 12:\n",
    "                        gx[1].extend([int(line.split(',')[1])])\n",
    "                        gy[1].extend([int(line.split(',')[2])])\n",
    "                        gz[1].extend([int(line.split(',')[3])])\n",
    "                        ax[1].extend([int(line.split(',')[4])])\n",
    "                        ay[1].extend([int(line.split(',')[5])])\n",
    "                        az[1].extend([int(line.split(',')[6])])\n",
    "                        mx[1].extend([int(line.split(',')[7])])\n",
    "                        my[1].extend([int(line.split(',')[8])])\n",
    "                        mz[1].extend([int(line.split(',')[9])])\n",
    "                        lf[1].extend([int(line.split(',')[10])])\n",
    "                        lb[1].extend([int(line.split(',')[11])])\n",
    "                    else:\n",
    "                        continue\n",
    "                except:\n",
    "                    continue\n",
    "            gx[0].extend([count])\n",
    "            gy[0].extend([count])\n",
    "            gz[0].extend([count])\n",
    "            ax[0].extend([count])\n",
    "            ay[0].extend([count])\n",
    "            az[0].extend([count])\n",
    "            mx[0].extend([count])\n",
    "            my[0].extend([count])\n",
    "            mz[0].extend([count])\n",
    "            lf[0].extend([count])\n",
    "            lb[0].extend([count])\n",
    "            gx[2].extend([gs[count-1]])\n",
    "            gy[2].extend([gs[count-1]])\n",
    "            gz[2].extend([gs[count-1]])\n",
    "            ax[2].extend([gs[count-1]])\n",
    "            ay[2].extend([gs[count-1]])\n",
    "            az[2].extend([gs[count-1]])\n",
    "            mx[2].extend([gs[count-1]])\n",
    "            my[2].extend([gs[count-1]])\n",
    "            mz[2].extend([gs[count-1]])\n",
    "            lf[2].extend([gs[count-1]])\n",
    "            lb[2].extend([gs[count-1]])\n",
    "                    \n",
    "        data_dictionary['gx prior'].append(gx)\n",
    "        data_dictionary['gy prior'].append(gy)\n",
    "        data_dictionary['gz prior'].append(gz)\n",
    "        data_dictionary['ax prior'].append(ax)\n",
    "        data_dictionary['ay prior'].append(ay)\n",
    "        data_dictionary['az prior'].append(az)\n",
    "        data_dictionary['mx prior'].append(mx)\n",
    "        data_dictionary['my prior'].append(my)\n",
    "        data_dictionary['mz prior'].append(mz)\n",
    "        data_dictionary['sun front prior'].append(lf)\n",
    "        data_dictionary['sun rear prior'].append(lb)\n",
    "        \n",
    "        if count in air:\n",
    "            data_dictionary['gx air prior'].append(gx)\n",
    "            data_dictionary['gy air prior'].append(gy)\n",
    "            data_dictionary['gz air prior'].append(gz)\n",
    "            data_dictionary['ax air prior'].append(ax)\n",
    "            data_dictionary['ay air prior'].append(ay)\n",
    "            data_dictionary['az air prior'].append(az)\n",
    "            data_dictionary['mx air prior'].append(mx)\n",
    "            data_dictionary['my air prior'].append(my)\n",
    "            data_dictionary['mz air prior'].append(mz)\n",
    "            data_dictionary['sun front air prior'].append(lf)\n",
    "            data_dictionary['sun rear air prior'].append(lb)\n",
    "            \n",
    "        if count in beads:\n",
    "            data_dictionary['gx beads prior'].append(gx)\n",
    "            data_dictionary['gy beads prior'].append(gy)\n",
    "            data_dictionary['gz beads prior'].append(gz)\n",
    "            data_dictionary['ax beads prior'].append(ax)\n",
    "            data_dictionary['ay beads prior'].append(ay)\n",
    "            data_dictionary['az beads prior'].append(az)\n",
    "            data_dictionary['mx beads prior'].append(mx)\n",
    "            data_dictionary['my beads prior'].append(my)\n",
    "            data_dictionary['mz beads prior'].append(mz)\n",
    "            data_dictionary['sun front beads prior'].append(lf)\n",
    "            data_dictionary['sun rear beads prior'].append(lb)\n",
    "            \n",
    "        if count in wax:\n",
    "            data_dictionary['gx wax prior'].append(gx)\n",
    "            data_dictionary['gy wax prior'].append(gy)\n",
    "            data_dictionary['gz wax prior'].append(gz)\n",
    "            data_dictionary['ax wax prior'].append(ax)\n",
    "            data_dictionary['ay wax prior'].append(ay)\n",
    "            data_dictionary['az wax prior'].append(az)\n",
    "            data_dictionary['mx wax prior'].append(mx)\n",
    "            data_dictionary['my wax prior'].append(my)\n",
    "            data_dictionary['mz wax prior'].append(mz)\n",
    "            data_dictionary['sun front wax prior'].append(lf)\n",
    "            data_dictionary['sun rear wax prior'].append(lb)\n",
    "            \n",
    "        if count in wcs8:\n",
    "            data_dictionary['gx wcs8 prior'].append(gx)\n",
    "            data_dictionary['gy wcs8 prior'].append(gy)\n",
    "            data_dictionary['gz wcs8 prior'].append(gz)\n",
    "            data_dictionary['ax wcs8 prior'].append(ax)\n",
    "            data_dictionary['ay wcs8 prior'].append(ay)\n",
    "            data_dictionary['az wcs8 prior'].append(az)\n",
    "            data_dictionary['mx wcs8 prior'].append(mx)\n",
    "            data_dictionary['my wcs8 prior'].append(my)\n",
    "            data_dictionary['mz wcs8 prior'].append(mz)\n",
    "            data_dictionary['sun front wcs8 prior'].append(lf)\n",
    "            data_dictionary['sun rear wcs8 prior'].append(lb)\n",
    "            \n",
    "        if count in regolith:\n",
    "            data_dictionary['gx regolith prior'].append(gx)\n",
    "            data_dictionary['gy regolith prior'].append(gy)\n",
    "            data_dictionary['gz regolith prior'].append(gz)\n",
    "            data_dictionary['ax regolith prior'].append(ax)\n",
    "            data_dictionary['ay regolith prior'].append(ay)\n",
    "            data_dictionary['az regolith prior'].append(az)\n",
    "            data_dictionary['mx regolith prior'].append(mx)\n",
    "            data_dictionary['my regolith prior'].append(my)\n",
    "            data_dictionary['mz regolith prior'].append(mz)\n",
    "            data_dictionary['sun front regolith prior'].append(lf)\n",
    "            data_dictionary['sun rear regolith prior'].append(lb)\n",
    "            \n",
    "    count = 0\n",
    "    for filename in os.listdir('./Posterior_Data'):\n",
    "        gx, gy, gz = [[],[],[]],  [[],[],[]],  [[],[],[]]\n",
    "        ax, ay, az = [[],[],[]],  [[],[],[]],  [[],[],[]]\n",
    "        mx, my, mz = [[],[],[]],  [[],[],[]],  [[],[],[]]\n",
    "        lf, lb = [[],[],[]], [[],[],[]]\n",
    "        count += 1\n",
    "        with open('./Posterior_Data/'+filename, \"rt\") as f:\n",
    "            for line in f:\n",
    "                try:\n",
    "                    if len(line.split(',')) == 12:\n",
    "                        gx[1].extend([int(line.split(',')[1])])\n",
    "                        gy[1].extend([int(line.split(',')[2])])\n",
    "                        gz[1].extend([int(line.split(',')[3])])\n",
    "                        ax[1].extend([int(line.split(',')[4])])\n",
    "                        ay[1].extend([int(line.split(',')[5])])\n",
    "                        az[1].extend([int(line.split(',')[6])])\n",
    "                        mx[1].extend([int(line.split(',')[7])])\n",
    "                        my[1].extend([int(line.split(',')[8])])\n",
    "                        mz[1].extend([int(line.split(',')[9])])\n",
    "                        lf[1].extend([int(line.split(',')[10])])\n",
    "                        lb[1].extend([int(line.split(',')[11])])\n",
    "                    else:\n",
    "                        continue\n",
    "                except:\n",
    "                    continue\n",
    "            gx[0].extend([count])\n",
    "            gy[0].extend([count])\n",
    "            gz[0].extend([count])\n",
    "            ax[0].extend([count])\n",
    "            ay[0].extend([count])\n",
    "            az[0].extend([count])\n",
    "            mx[0].extend([count])\n",
    "            my[0].extend([count])\n",
    "            mz[0].extend([count])\n",
    "            lf[0].extend([count])\n",
    "            lb[0].extend([count])\n",
    "            gx[2].extend([gs[count-1]])\n",
    "            gy[2].extend([gs[count-1]])\n",
    "            gz[2].extend([gs[count-1]])\n",
    "            ax[2].extend([gs[count-1]])\n",
    "            ay[2].extend([gs[count-1]])\n",
    "            az[2].extend([gs[count-1]])\n",
    "            mx[2].extend([gs[count-1]])\n",
    "            my[2].extend([gs[count-1]])\n",
    "            mz[2].extend([gs[count-1]])\n",
    "            lf[2].extend([gs[count-1]])\n",
    "            lb[2].extend([gs[count-1]])\n",
    "        \n",
    "        if count in air:\n",
    "            data_dictionary['gx air posterior'].append(gx)\n",
    "            data_dictionary['gy air posterior'].append(gy)\n",
    "            data_dictionary['gz air posterior'].append(gz)\n",
    "            data_dictionary['ax air posterior'].append(ax)\n",
    "            data_dictionary['ay air posterior'].append(ay)\n",
    "            data_dictionary['az air posterior'].append(az)\n",
    "            data_dictionary['mx air posterior'].append(mx)\n",
    "            data_dictionary['my air posterior'].append(my)\n",
    "            data_dictionary['mz air posterior'].append(mz)\n",
    "            data_dictionary['sun front air posterior'].append(lf)\n",
    "            data_dictionary['sun rear air posterior'].append(lb)\n",
    "            \n",
    "        if count in beads:\n",
    "            data_dictionary['gx beads posterior'].append(gx)\n",
    "            data_dictionary['gy beads posterior'].append(gy)\n",
    "            data_dictionary['gz beads posterior'].append(gz)\n",
    "            data_dictionary['ax beads posterior'].append(ax)\n",
    "            data_dictionary['ay beads posterior'].append(ay)\n",
    "            data_dictionary['az beads posterior'].append(az)\n",
    "            data_dictionary['mx beads posterior'].append(mx)\n",
    "            data_dictionary['my beads posterior'].append(my)\n",
    "            data_dictionary['mz beads posterior'].append(mz)\n",
    "            data_dictionary['sun front beads posterior'].append(lf)\n",
    "            data_dictionary['sun rear beads posterior'].append(lb)\n",
    "            \n",
    "        if count in wax:\n",
    "            data_dictionary['gx wax posterior'].append(gx)\n",
    "            data_dictionary['gy wax posterior'].append(gy)\n",
    "            data_dictionary['gz wax posterior'].append(gz)\n",
    "            data_dictionary['ax wax posterior'].append(ax)\n",
    "            data_dictionary['ay wax posterior'].append(ay)\n",
    "            data_dictionary['az wax posterior'].append(az)\n",
    "            data_dictionary['mx wax posterior'].append(mx)\n",
    "            data_dictionary['my wax posterior'].append(my)\n",
    "            data_dictionary['mz wax posterior'].append(mz)\n",
    "            data_dictionary['sun front wax posterior'].append(lf)\n",
    "            data_dictionary['sun rear wax posterior'].append(lb)\n",
    "            \n",
    "        if count in wcs8:\n",
    "            data_dictionary['gx wcs8 posterior'].append(gx)\n",
    "            data_dictionary['gy wcs8 posterior'].append(gy)\n",
    "            data_dictionary['gz wcs8 posterior'].append(gz)\n",
    "            data_dictionary['ax wcs8 posterior'].append(ax)\n",
    "            data_dictionary['ay wcs8 posterior'].append(ay)\n",
    "            data_dictionary['az wcs8 posterior'].append(az)\n",
    "            data_dictionary['mx wcs8 posterior'].append(mx)\n",
    "            data_dictionary['my wcs8 posterior'].append(my)\n",
    "            data_dictionary['mz wcs8 posterior'].append(mz)\n",
    "            data_dictionary['sun front wcs8 posterior'].append(lf)\n",
    "            data_dictionary['sun rear wcs8 posterior'].append(lb)\n",
    "            \n",
    "        if count in regolith:\n",
    "            data_dictionary['gx regolith posterior'].append(gx)\n",
    "            data_dictionary['gy regolith posterior'].append(gy)\n",
    "            data_dictionary['gz regolith posterior'].append(gz)\n",
    "            data_dictionary['ax regolith posterior'].append(ax)\n",
    "            data_dictionary['ay regolith posterior'].append(ay)\n",
    "            data_dictionary['az regolith posterior'].append(az)\n",
    "            data_dictionary['mx regolith posterior'].append(mx)\n",
    "            data_dictionary['my regolith posterior'].append(my)\n",
    "            data_dictionary['mz regolith posterior'].append(mz)\n",
    "            data_dictionary['sun front regolith posterior'].append(lf)\n",
    "            data_dictionary['sun rear regolith posterior'].append(lb)"
   ]
  },
  {
   "cell_type": "code",
   "execution_count": 156,
   "metadata": {
    "collapsed": false
   },
   "outputs": [],
   "source": [
    "gatherData()"
   ]
  },
  {
   "cell_type": "markdown",
   "metadata": {},
   "source": [
    "# Results"
   ]
  },
  {
   "cell_type": "markdown",
   "metadata": {},
   "source": [
    "**Instructions**: Double-click the legend of each plot to toggle all histograms off. Then, click the individual sprites for which you would like the data to be plotted. There's a lot of dimensionality to this data (G-exposure, medium used, chip number). I can statistically characterize the results, but you can get a good empirical impression by playing with the plots below. Turn different plots on/off and compare."
   ]
  },
  {
   "cell_type": "markdown",
   "metadata": {},
   "source": [
    "## Sun Sensors"
   ]
  },
  {
   "cell_type": "markdown",
   "metadata": {},
   "source": [
    "**Note**: The sun sensors seem to have survived unaffected. I did not clean the chips prior to taking the posterior data, because the ambient light sensors provided a quantitative measurement of dirtiness. You will see that the posterior ambient light data is significantly darker for regolith than for all other media, because the regolith left the chips the dirtiest."
   ]
  },
  {
   "cell_type": "code",
   "execution_count": 172,
   "metadata": {
    "collapsed": false,
    "scrolled": false
   },
   "outputs": [
    {
     "data": {
      "text/html": [
       "<iframe id=\"igraph\" scrolling=\"no\" style=\"border:none;\" seamless=\"seamless\" src=\"https://plot.ly/~v.h.adams/123.embed\" height=\"525px\" width=\"100%\"></iframe>"
      ],
      "text/plain": [
       "<plotly.tools.PlotlyDisplay object>"
      ]
     },
     "execution_count": 172,
     "metadata": {},
     "output_type": "execute_result"
    }
   ],
   "source": [
    "data = []\n",
    "for i in data_dictionary['sun front regolith posterior']:\n",
    "    data.extend([createHisto(i[1], 'Sprite %s, %d G\\'s, regolith'%(i[0][0], i[2][0]))])\n",
    "for i in data_dictionary['sun front air posterior']:\n",
    "    data.extend([createHisto(i[1], 'Sprite %s, %d G\\'s, air'%(i[0][0], i[2][0]))])\n",
    "for i in data_dictionary['sun front beads posterior']:\n",
    "    data.extend([createHisto(i[1], 'Sprite %s, %d G\\'s, beads'%(i[0][0], i[2][0]))])\n",
    "for i in data_dictionary['sun front wax posterior']:\n",
    "    data.extend([createHisto(i[1], 'Sprite %s, %d G\\'s, wax'%(i[0][0], i[2][0]))])\n",
    "for i in data_dictionary['sun front wcs8 posterior']:\n",
    "    data.extend([createHisto(i[1], 'Sprite %s, %d G\\'s, wcs8'%(i[0][0], i[2][0]))])\n",
    "for i in data_dictionary['sun front regolith prior']:\n",
    "    data.extend([createHisto(i[1], 'Sprite %d Prior'%(i[0][0]))])\n",
    "for i in data_dictionary['sun front air prior']:\n",
    "    data.extend([createHisto(i[1], 'Sprite %d Prior'%(i[0][0]))])\n",
    "for i in data_dictionary['sun front beads prior']:\n",
    "    data.extend([createHisto(i[1], 'Sprite %d Prior'%(i[0][0]))])\n",
    "for i in data_dictionary['sun front wax prior']:\n",
    "    data.extend([createHisto(i[1], 'Sprite %d Prior'%(i[0][0]))])\n",
    "for i in data_dictionary['sun front wcs8 prior']:\n",
    "    data.extend([createHisto(i[1], 'Sprite %d Prior'%(i[0][0]))])\n",
    "layout.title='Rear Sun Sensor'\n",
    "fig = go.Figure(data=data, layout=layout)\n",
    "py.iplot(fig, filename='rear_ss_regolith')"
   ]
  },
  {
   "cell_type": "code",
   "execution_count": 173,
   "metadata": {
    "collapsed": false
   },
   "outputs": [
    {
     "data": {
      "text/html": [
       "<iframe id=\"igraph\" scrolling=\"no\" style=\"border:none;\" seamless=\"seamless\" src=\"https://plot.ly/~v.h.adams/125.embed\" height=\"525px\" width=\"100%\"></iframe>"
      ],
      "text/plain": [
       "<plotly.tools.PlotlyDisplay object>"
      ]
     },
     "execution_count": 173,
     "metadata": {},
     "output_type": "execute_result"
    }
   ],
   "source": [
    "data = []\n",
    "for i in data_dictionary['sun rear regolith posterior']:\n",
    "    data.extend([createHisto(i[1], 'Sprite %s, %d G\\'s, regolith'%(i[0][0], i[2][0]))])\n",
    "for i in data_dictionary['sun rear air posterior']:\n",
    "    data.extend([createHisto(i[1], 'Sprite %s, %d G\\'s, air'%(i[0][0], i[2][0]))])\n",
    "for i in data_dictionary['sun rear beads posterior']:\n",
    "    data.extend([createHisto(i[1], 'Sprite %s, %d G\\'s, beads'%(i[0][0], i[2][0]))])\n",
    "for i in data_dictionary['sun rear wax posterior']:\n",
    "    data.extend([createHisto(i[1], 'Sprite %s, %d G\\'s, wax'%(i[0][0], i[2][0]))])\n",
    "for i in data_dictionary['sun rear wcs8 posterior']:\n",
    "    data.extend([createHisto(i[1], 'Sprite %s, %d G\\'s, wcs8'%(i[0][0], i[2][0]))])\n",
    "for i in data_dictionary['sun rear regolith prior']:\n",
    "    data.extend([createHisto(i[1], 'Sprite %d Prior'%(i[0][0]))])\n",
    "for i in data_dictionary['sun rear air prior']:\n",
    "    data.extend([createHisto(i[1], 'Sprite %d Prior'%(i[0][0]))])\n",
    "for i in data_dictionary['sun rear beads prior']:\n",
    "    data.extend([createHisto(i[1], 'Sprite %d Prior'%(i[0][0]))])\n",
    "for i in data_dictionary['sun rear wax prior']:\n",
    "    data.extend([createHisto(i[1], 'Sprite %d Prior'%(i[0][0]))])\n",
    "for i in data_dictionary['sun rear wcs8 prior']:\n",
    "    data.extend([createHisto(i[1], 'Sprite %d Prior'%(i[0][0]))])\n",
    "layout.title='Front Sun Sensor'\n",
    "fig = go.Figure(data=data, layout=layout)\n",
    "py.iplot(fig, filename='front_ss_regolith')"
   ]
  },
  {
   "cell_type": "markdown",
   "metadata": {},
   "source": [
    "## Gyroscope"
   ]
  },
  {
   "cell_type": "code",
   "execution_count": 174,
   "metadata": {
    "collapsed": false
   },
   "outputs": [
    {
     "data": {
      "text/html": [
       "<iframe id=\"igraph\" scrolling=\"no\" style=\"border:none;\" seamless=\"seamless\" src=\"https://plot.ly/~v.h.adams/127.embed\" height=\"525px\" width=\"100%\"></iframe>"
      ],
      "text/plain": [
       "<plotly.tools.PlotlyDisplay object>"
      ]
     },
     "execution_count": 174,
     "metadata": {},
     "output_type": "execute_result"
    }
   ],
   "source": [
    "data = []\n",
    "for i in data_dictionary['gx regolith posterior']:\n",
    "    data.extend([createHisto(i[1], 'Sprite %s, %d G\\'s, regolith'%(i[0][0], i[2][0]))])\n",
    "for i in data_dictionary['gx air posterior']:\n",
    "    data.extend([createHisto(i[1], 'Sprite %s, %d G\\'s, air'%(i[0][0], i[2][0]))])\n",
    "for i in data_dictionary['gx beads posterior']:\n",
    "    data.extend([createHisto(i[1], 'Sprite %s, %d G\\'s, beads'%(i[0][0], i[2][0]))])\n",
    "for i in data_dictionary['gx wax posterior']:\n",
    "    data.extend([createHisto(i[1], 'Sprite %s, %d G\\'s, wax'%(i[0][0], i[2][0]))])\n",
    "for i in data_dictionary['gx wcs8 posterior']:\n",
    "    data.extend([createHisto(i[1], 'Sprite %s, %d G\\'s, wcs8'%(i[0][0], i[2][0]))])\n",
    "for i in data_dictionary['gx regolith prior']:\n",
    "    data.extend([createHisto(i[1], 'Sprite %d Prior'%(i[0][0]))])\n",
    "for i in data_dictionary['gx air prior']:\n",
    "    data.extend([createHisto(i[1], 'Sprite %d Prior'%(i[0][0]))])\n",
    "for i in data_dictionary['gx beads prior']:\n",
    "    data.extend([createHisto(i[1], 'Sprite %d Prior'%(i[0][0]))])\n",
    "for i in data_dictionary['gx wax prior']:\n",
    "    data.extend([createHisto(i[1], 'Sprite %d Prior'%(i[0][0]))])\n",
    "for i in data_dictionary['gx wcs8 prior']:\n",
    "    data.extend([createHisto(i[1], 'Sprite %d Prior'%(i[0][0]))])\n",
    "layout.title='Gyroscope - x axis'\n",
    "fig = go.Figure(data=data, layout=layout)\n",
    "py.iplot(fig, filename='gx_all')"
   ]
  },
  {
   "cell_type": "code",
   "execution_count": 175,
   "metadata": {
    "collapsed": false
   },
   "outputs": [
    {
     "data": {
      "text/html": [
       "<iframe id=\"igraph\" scrolling=\"no\" style=\"border:none;\" seamless=\"seamless\" src=\"https://plot.ly/~v.h.adams/129.embed\" height=\"525px\" width=\"100%\"></iframe>"
      ],
      "text/plain": [
       "<plotly.tools.PlotlyDisplay object>"
      ]
     },
     "execution_count": 175,
     "metadata": {},
     "output_type": "execute_result"
    }
   ],
   "source": [
    "data = []\n",
    "for i in data_dictionary['gy regolith posterior']:\n",
    "    data.extend([createHisto(i[1], 'Sprite %s, %d G\\'s, regolith'%(i[0][0], i[2][0]))])\n",
    "for i in data_dictionary['gy air posterior']:\n",
    "    data.extend([createHisto(i[1], 'Sprite %s, %d G\\'s, air'%(i[0][0], i[2][0]))])\n",
    "for i in data_dictionary['gy beads posterior']:\n",
    "    data.extend([createHisto(i[1], 'Sprite %s, %d G\\'s, beads'%(i[0][0], i[2][0]))])\n",
    "for i in data_dictionary['gy wax posterior']:\n",
    "    data.extend([createHisto(i[1], 'Sprite %s, %d G\\'s, wax'%(i[0][0], i[2][0]))])\n",
    "for i in data_dictionary['gy wcs8 posterior']:\n",
    "    data.extend([createHisto(i[1], 'Sprite %s, %d G\\'s, wcs8'%(i[0][0], i[2][0]))])\n",
    "for i in data_dictionary['gy regolith prior']:\n",
    "    data.extend([createHisto(i[1], 'Sprite %d Prior'%(i[0][0]))])\n",
    "for i in data_dictionary['gy air prior']:\n",
    "    data.extend([createHisto(i[1], 'Sprite %d Prior'%(i[0][0]))])\n",
    "for i in data_dictionary['gy beads prior']:\n",
    "    data.extend([createHisto(i[1], 'Sprite %d Prior'%(i[0][0]))])\n",
    "for i in data_dictionary['gy wax prior']:\n",
    "    data.extend([createHisto(i[1], 'Sprite %d Prior'%(i[0][0]))])\n",
    "for i in data_dictionary['gy wcs8 prior']:\n",
    "    data.extend([createHisto(i[1], 'Sprite %d Prior'%(i[0][0]))])\n",
    "layout.title='Gyroscope - y axis'\n",
    "fig = go.Figure(data=data, layout=layout)\n",
    "py.iplot(fig, filename='gy_all')"
   ]
  },
  {
   "cell_type": "code",
   "execution_count": 177,
   "metadata": {
    "collapsed": false
   },
   "outputs": [
    {
     "data": {
      "text/html": [
       "<iframe id=\"igraph\" scrolling=\"no\" style=\"border:none;\" seamless=\"seamless\" src=\"https://plot.ly/~v.h.adams/131.embed\" height=\"525px\" width=\"100%\"></iframe>"
      ],
      "text/plain": [
       "<plotly.tools.PlotlyDisplay object>"
      ]
     },
     "execution_count": 177,
     "metadata": {},
     "output_type": "execute_result"
    }
   ],
   "source": [
    "data = []\n",
    "for i in data_dictionary['gz regolith posterior']:\n",
    "    data.extend([createHisto(i[1], 'Sprite %s, %d G\\'s, regolith'%(i[0][0], i[2][0]))])\n",
    "for i in data_dictionary['gz air posterior']:\n",
    "    data.extend([createHisto(i[1], 'Sprite %s, %d G\\'s, air'%(i[0][0], i[2][0]))])\n",
    "for i in data_dictionary['gz beads posterior']:\n",
    "    data.extend([createHisto(i[1], 'Sprite %s, %d G\\'s, beads'%(i[0][0], i[2][0]))])\n",
    "for i in data_dictionary['gz wax posterior']:\n",
    "    data.extend([createHisto(i[1], 'Sprite %s, %d G\\'s, wax'%(i[0][0], i[2][0]))])\n",
    "for i in data_dictionary['gz wcs8 posterior']:\n",
    "    data.extend([createHisto(i[1], 'Sprite %s, %d G\\'s, wcs8'%(i[0][0], i[2][0]))])\n",
    "for i in data_dictionary['gz regolith prior']:\n",
    "    data.extend([createHisto(i[1], 'Sprite %d Prior'%(i[0][0]))])\n",
    "for i in data_dictionary['gz air prior']:\n",
    "    data.extend([createHisto(i[1], 'Sprite %d Prior'%(i[0][0]))])\n",
    "for i in data_dictionary['gz beads prior']:\n",
    "    data.extend([createHisto(i[1], 'Sprite %d Prior'%(i[0][0]))])\n",
    "for i in data_dictionary['gz wax prior']:\n",
    "    data.extend([createHisto(i[1], 'Sprite %d Prior'%(i[0][0]))])\n",
    "for i in data_dictionary['gz wcs8 prior']:\n",
    "    data.extend([createHisto(i[1], 'Sprite %d Prior'%(i[0][0]))])\n",
    "layout.title='Gyroscope - z axis'\n",
    "fig = go.Figure(data=data, layout=layout)\n",
    "py.iplot(fig, filename='gz_all')"
   ]
  },
  {
   "cell_type": "markdown",
   "metadata": {},
   "source": [
    "## Accelerometer"
   ]
  },
  {
   "cell_type": "code",
   "execution_count": 178,
   "metadata": {
    "collapsed": false
   },
   "outputs": [
    {
     "data": {
      "text/html": [
       "<iframe id=\"igraph\" scrolling=\"no\" style=\"border:none;\" seamless=\"seamless\" src=\"https://plot.ly/~v.h.adams/133.embed\" height=\"525px\" width=\"100%\"></iframe>"
      ],
      "text/plain": [
       "<plotly.tools.PlotlyDisplay object>"
      ]
     },
     "execution_count": 178,
     "metadata": {},
     "output_type": "execute_result"
    }
   ],
   "source": [
    "data = []\n",
    "for i in data_dictionary['ax regolith posterior']:\n",
    "    data.extend([createHisto(i[1], 'Sprite %s, %d G\\'s, regolith'%(i[0][0], i[2][0]))])\n",
    "for i in data_dictionary['ax air posterior']:\n",
    "    data.extend([createHisto(i[1], 'Sprite %s, %d G\\'s, air'%(i[0][0], i[2][0]))])\n",
    "for i in data_dictionary['ax beads posterior']:\n",
    "    data.extend([createHisto(i[1], 'Sprite %s, %d G\\'s, beads'%(i[0][0], i[2][0]))])\n",
    "for i in data_dictionary['ax wax posterior']:\n",
    "    data.extend([createHisto(i[1], 'Sprite %s, %d G\\'s, wax'%(i[0][0], i[2][0]))])\n",
    "for i in data_dictionary['ax wcs8 posterior']:\n",
    "    data.extend([createHisto(i[1], 'Sprite %s, %d G\\'s, wcs8'%(i[0][0], i[2][0]))])\n",
    "for i in data_dictionary['ax regolith prior']:\n",
    "    data.extend([createHisto(i[1], 'Sprite %d Prior'%(i[0][0]))])\n",
    "for i in data_dictionary['ax air prior']:\n",
    "    data.extend([createHisto(i[1], 'Sprite %d Prior'%(i[0][0]))])\n",
    "for i in data_dictionary['ax beads prior']:\n",
    "    data.extend([createHisto(i[1], 'Sprite %d Prior'%(i[0][0]))])\n",
    "for i in data_dictionary['ax wax prior']:\n",
    "    data.extend([createHisto(i[1], 'Sprite %d Prior'%(i[0][0]))])\n",
    "for i in data_dictionary['ax wcs8 prior']:\n",
    "    data.extend([createHisto(i[1], 'Sprite %d Prior'%(i[0][0]))])\n",
    "layout.title='Accelerometer - x axis'\n",
    "fig = go.Figure(data=data, layout=layout)\n",
    "py.iplot(fig, filename='ax_all')"
   ]
  },
  {
   "cell_type": "code",
   "execution_count": 179,
   "metadata": {
    "collapsed": false
   },
   "outputs": [
    {
     "data": {
      "text/html": [
       "<iframe id=\"igraph\" scrolling=\"no\" style=\"border:none;\" seamless=\"seamless\" src=\"https://plot.ly/~v.h.adams/135.embed\" height=\"525px\" width=\"100%\"></iframe>"
      ],
      "text/plain": [
       "<plotly.tools.PlotlyDisplay object>"
      ]
     },
     "execution_count": 179,
     "metadata": {},
     "output_type": "execute_result"
    }
   ],
   "source": [
    "data = []\n",
    "for i in data_dictionary['ay regolith posterior']:\n",
    "    data.extend([createHisto(i[1], 'Sprite %s, %d G\\'s, regolith'%(i[0][0], i[2][0]))])\n",
    "for i in data_dictionary['ay air posterior']:\n",
    "    data.extend([createHisto(i[1], 'Sprite %s, %d G\\'s, air'%(i[0][0], i[2][0]))])\n",
    "for i in data_dictionary['ay beads posterior']:\n",
    "    data.extend([createHisto(i[1], 'Sprite %s, %d G\\'s, beads'%(i[0][0], i[2][0]))])\n",
    "for i in data_dictionary['ay wax posterior']:\n",
    "    data.extend([createHisto(i[1], 'Sprite %s, %d G\\'s, wax'%(i[0][0], i[2][0]))])\n",
    "for i in data_dictionary['ay wcs8 posterior']:\n",
    "    data.extend([createHisto(i[1], 'Sprite %s, %d G\\'s, wcs8'%(i[0][0], i[2][0]))])\n",
    "for i in data_dictionary['ay regolith prior']:\n",
    "    data.extend([createHisto(i[1], 'Sprite %d Prior'%(i[0][0]))])\n",
    "for i in data_dictionary['ay air prior']:\n",
    "    data.extend([createHisto(i[1], 'Sprite %d Prior'%(i[0][0]))])\n",
    "for i in data_dictionary['ay beads prior']:\n",
    "    data.extend([createHisto(i[1], 'Sprite %d Prior'%(i[0][0]))])\n",
    "for i in data_dictionary['ay wax prior']:\n",
    "    data.extend([createHisto(i[1], 'Sprite %d Prior'%(i[0][0]))])\n",
    "for i in data_dictionary['ay wcs8 prior']:\n",
    "    data.extend([createHisto(i[1], 'Sprite %d Prior'%(i[0][0]))])\n",
    "layout.title='Accelerometer - y axis'\n",
    "fig = go.Figure(data=data, layout=layout)\n",
    "py.iplot(fig, filename='ay_all')"
   ]
  },
  {
   "cell_type": "code",
   "execution_count": 180,
   "metadata": {
    "collapsed": false
   },
   "outputs": [
    {
     "data": {
      "text/html": [
       "<iframe id=\"igraph\" scrolling=\"no\" style=\"border:none;\" seamless=\"seamless\" src=\"https://plot.ly/~v.h.adams/137.embed\" height=\"525px\" width=\"100%\"></iframe>"
      ],
      "text/plain": [
       "<plotly.tools.PlotlyDisplay object>"
      ]
     },
     "execution_count": 180,
     "metadata": {},
     "output_type": "execute_result"
    }
   ],
   "source": [
    "data = []\n",
    "for i in data_dictionary['az regolith posterior']:\n",
    "    data.extend([createHisto(i[1], 'Sprite %s, %d G\\'s, regolith'%(i[0][0], i[2][0]))])\n",
    "for i in data_dictionary['az air posterior']:\n",
    "    data.extend([createHisto(i[1], 'Sprite %s, %d G\\'s, air'%(i[0][0], i[2][0]))])\n",
    "for i in data_dictionary['az beads posterior']:\n",
    "    data.extend([createHisto(i[1], 'Sprite %s, %d G\\'s, beads'%(i[0][0], i[2][0]))])\n",
    "for i in data_dictionary['az wax posterior']:\n",
    "    data.extend([createHisto(i[1], 'Sprite %s, %d G\\'s, wax'%(i[0][0], i[2][0]))])\n",
    "for i in data_dictionary['az wcs8 posterior']:\n",
    "    data.extend([createHisto(i[1], 'Sprite %s, %d G\\'s, wcs8'%(i[0][0], i[2][0]))])\n",
    "for i in data_dictionary['az regolith prior']:\n",
    "    data.extend([createHisto(i[1], 'Sprite %d Prior'%(i[0][0]))])\n",
    "for i in data_dictionary['az air prior']:\n",
    "    data.extend([createHisto(i[1], 'Sprite %d Prior'%(i[0][0]))])\n",
    "for i in data_dictionary['az beads prior']:\n",
    "    data.extend([createHisto(i[1], 'Sprite %d Prior'%(i[0][0]))])\n",
    "for i in data_dictionary['az wax prior']:\n",
    "    data.extend([createHisto(i[1], 'Sprite %d Prior'%(i[0][0]))])\n",
    "for i in data_dictionary['az wcs8 prior']:\n",
    "    data.extend([createHisto(i[1], 'Sprite %d Prior'%(i[0][0]))])\n",
    "layout.title='Accelerometer - z axis'\n",
    "fig = go.Figure(data=data, layout=layout)\n",
    "py.iplot(fig, filename='az_all')"
   ]
  },
  {
   "cell_type": "markdown",
   "metadata": {},
   "source": [
    "## Magnetometer"
   ]
  },
  {
   "cell_type": "code",
   "execution_count": 184,
   "metadata": {
    "collapsed": false
   },
   "outputs": [
    {
     "data": {
      "text/html": [
       "<iframe id=\"igraph\" scrolling=\"no\" style=\"border:none;\" seamless=\"seamless\" src=\"https://plot.ly/~v.h.adams/139.embed\" height=\"525px\" width=\"100%\"></iframe>"
      ],
      "text/plain": [
       "<plotly.tools.PlotlyDisplay object>"
      ]
     },
     "execution_count": 184,
     "metadata": {},
     "output_type": "execute_result"
    }
   ],
   "source": [
    "data = []\n",
    "for i in data_dictionary['mx regolith posterior']:\n",
    "    data.extend([createHisto(i[1], 'Sprite %s, %d G\\'s, regolith'%(i[0][0], i[2][0]))])\n",
    "for i in data_dictionary['mx air posterior']:\n",
    "    data.extend([createHisto(i[1], 'Sprite %s, %d G\\'s, air'%(i[0][0], i[2][0]))])\n",
    "for i in data_dictionary['mx beads posterior']:\n",
    "    data.extend([createHisto(i[1], 'Sprite %s, %d G\\'s, beads'%(i[0][0], i[2][0]))])\n",
    "for i in data_dictionary['mx wax posterior']:\n",
    "    data.extend([createHisto(i[1], 'Sprite %s, %d G\\'s, wax'%(i[0][0], i[2][0]))])\n",
    "for i in data_dictionary['mx wcs8 posterior']:\n",
    "    data.extend([createHisto(i[1], 'Sprite %s, %d G\\'s, wcs8'%(i[0][0], i[2][0]))])\n",
    "for i in data_dictionary['mx regolith prior']:\n",
    "    data.extend([createHisto(i[1], 'Sprite %d Prior'%(i[0][0]))])\n",
    "for i in data_dictionary['mx air prior']:\n",
    "    data.extend([createHisto(i[1], 'Sprite %d Prior'%(i[0][0]))])\n",
    "for i in data_dictionary['mx beads prior']:\n",
    "    data.extend([createHisto(i[1], 'Sprite %d Prior'%(i[0][0]))])\n",
    "for i in data_dictionary['mx wax prior']:\n",
    "    data.extend([createHisto(i[1], 'Sprite %d Prior'%(i[0][0]))])\n",
    "for i in data_dictionary['mx wcs8 prior']:\n",
    "    data.extend([createHisto(i[1], 'Sprite %d Prior'%(i[0][0]))])\n",
    "layout.title='Magnetometer - x axis'\n",
    "fig = go.Figure(data=data, layout=layout)\n",
    "py.iplot(fig, filename='mx_all')"
   ]
  },
  {
   "cell_type": "code",
   "execution_count": 183,
   "metadata": {
    "collapsed": false
   },
   "outputs": [
    {
     "data": {
      "text/html": [
       "<iframe id=\"igraph\" scrolling=\"no\" style=\"border:none;\" seamless=\"seamless\" src=\"https://plot.ly/~v.h.adams/141.embed\" height=\"525px\" width=\"100%\"></iframe>"
      ],
      "text/plain": [
       "<plotly.tools.PlotlyDisplay object>"
      ]
     },
     "execution_count": 183,
     "metadata": {},
     "output_type": "execute_result"
    }
   ],
   "source": [
    "data = []\n",
    "for i in data_dictionary['my regolith posterior']:\n",
    "    data.extend([createHisto(i[1], 'Sprite %s, %d G\\'s, regolith'%(i[0][0], i[2][0]))])\n",
    "for i in data_dictionary['my air posterior']:\n",
    "    data.extend([createHisto(i[1], 'Sprite %s, %d G\\'s, air'%(i[0][0], i[2][0]))])\n",
    "for i in data_dictionary['my beads posterior']:\n",
    "    data.extend([createHisto(i[1], 'Sprite %s, %d G\\'s, beads'%(i[0][0], i[2][0]))])\n",
    "for i in data_dictionary['my wax posterior']:\n",
    "    data.extend([createHisto(i[1], 'Sprite %s, %d G\\'s, wax'%(i[0][0], i[2][0]))])\n",
    "for i in data_dictionary['my wcs8 posterior']:\n",
    "    data.extend([createHisto(i[1], 'Sprite %s, %d G\\'s, wcs8'%(i[0][0], i[2][0]))])\n",
    "for i in data_dictionary['my regolith prior']:\n",
    "    data.extend([createHisto(i[1], 'Sprite %d Prior'%(i[0][0]))])\n",
    "for i in data_dictionary['my air prior']:\n",
    "    data.extend([createHisto(i[1], 'Sprite %d Prior'%(i[0][0]))])\n",
    "for i in data_dictionary['my beads prior']:\n",
    "    data.extend([createHisto(i[1], 'Sprite %d Prior'%(i[0][0]))])\n",
    "for i in data_dictionary['my wax prior']:\n",
    "    data.extend([createHisto(i[1], 'Sprite %d Prior'%(i[0][0]))])\n",
    "for i in data_dictionary['my wcs8 prior']:\n",
    "    data.extend([createHisto(i[1], 'Sprite %d Prior'%(i[0][0]))])\n",
    "layout.title='Magnetometer - y axis'\n",
    "fig = go.Figure(data=data, layout=layout)\n",
    "py.iplot(fig, filename='my_all')"
   ]
  },
  {
   "cell_type": "code",
   "execution_count": 185,
   "metadata": {
    "collapsed": false
   },
   "outputs": [
    {
     "data": {
      "text/html": [
       "<iframe id=\"igraph\" scrolling=\"no\" style=\"border:none;\" seamless=\"seamless\" src=\"https://plot.ly/~v.h.adams/143.embed\" height=\"525px\" width=\"100%\"></iframe>"
      ],
      "text/plain": [
       "<plotly.tools.PlotlyDisplay object>"
      ]
     },
     "execution_count": 185,
     "metadata": {},
     "output_type": "execute_result"
    }
   ],
   "source": [
    "data = []\n",
    "for i in data_dictionary['mz regolith posterior']:\n",
    "    data.extend([createHisto(i[1], 'Sprite %s, %d G\\'s, regolith'%(i[0][0], i[2][0]))])\n",
    "for i in data_dictionary['mz air posterior']:\n",
    "    data.extend([createHisto(i[1], 'Sprite %s, %d G\\'s, air'%(i[0][0], i[2][0]))])\n",
    "for i in data_dictionary['mz beads posterior']:\n",
    "    data.extend([createHisto(i[1], 'Sprite %s, %d G\\'s, beads'%(i[0][0], i[2][0]))])\n",
    "for i in data_dictionary['mz wax posterior']:\n",
    "    data.extend([createHisto(i[1], 'Sprite %s, %d G\\'s, wax'%(i[0][0], i[2][0]))])\n",
    "for i in data_dictionary['mz wcs8 posterior']:\n",
    "    data.extend([createHisto(i[1], 'Sprite %s, %d G\\'s, wcs8'%(i[0][0], i[2][0]))])\n",
    "for i in data_dictionary['mz regolith prior']:\n",
    "    data.extend([createHisto(i[1], 'Sprite %d Prior'%(i[0][0]))])\n",
    "for i in data_dictionary['mz air prior']:\n",
    "    data.extend([createHisto(i[1], 'Sprite %d Prior'%(i[0][0]))])\n",
    "for i in data_dictionary['mz beads prior']:\n",
    "    data.extend([createHisto(i[1], 'Sprite %d Prior'%(i[0][0]))])\n",
    "for i in data_dictionary['mz wax prior']:\n",
    "    data.extend([createHisto(i[1], 'Sprite %d Prior'%(i[0][0]))])\n",
    "for i in data_dictionary['mz wcs8 prior']:\n",
    "    data.extend([createHisto(i[1], 'Sprite %d Prior'%(i[0][0]))])\n",
    "layout.title='Magnetometer - z axis'\n",
    "fig = go.Figure(data=data, layout=layout)\n",
    "py.iplot(fig, filename='mz_all')"
   ]
  },
  {
   "cell_type": "code",
   "execution_count": null,
   "metadata": {
    "collapsed": true
   },
   "outputs": [],
   "source": []
  }
 ],
 "metadata": {
  "kernelspec": {
   "display_name": "Python 2",
   "language": "python",
   "name": "python2"
  },
  "language_info": {
   "codemirror_mode": {
    "name": "ipython",
    "version": 2
   },
   "file_extension": ".py",
   "mimetype": "text/x-python",
   "name": "python",
   "nbconvert_exporter": "python",
   "pygments_lexer": "ipython2",
   "version": "2.7.9"
  }
 },
 "nbformat": 4,
 "nbformat_minor": 2
}
