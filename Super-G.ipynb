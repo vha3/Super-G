{
 "cells": [
  {
   "cell_type": "markdown",
   "metadata": {},
   "source": [
    "# Super-G Sprite Testing"
   ]
  },
  {
   "cell_type": "markdown",
   "metadata": {},
   "source": [
    "V. Hunter Adams"
   ]
  },
  {
   "cell_type": "markdown",
   "metadata": {},
   "source": [
    "#### Import Necessary Libraries"
   ]
  },
  {
   "cell_type": "code",
   "execution_count": 23,
   "metadata": {
    "collapsed": false
   },
   "outputs": [],
   "source": [
    "import serial\n",
    "import numpy\n",
    "from matplotlib import pyplot as plt\n",
    "from IPython.display import clear_output\n",
    "from IPython.display import Latex\n",
    "import matplotlib.pyplot as plt\n",
    "%matplotlib inline\n",
    "from IPython.core.display import HTML \n",
    "from IPython.display import HTML\n",
    "from ipywidgets import *\n",
    "import plotly.plotly as py\n",
    "import plotly\n",
    "import plotly.graph_objs as go\n",
    "import pandas as pd\n",
    "import plotly.tools as tls\n",
    "import urllib2\n",
    "tls.set_credentials_file(username='v.h.adams', api_key='werEw55EhyYuY92HZtTt')"
   ]
  },
  {
   "cell_type": "code",
   "execution_count": 10,
   "metadata": {
    "collapsed": true
   },
   "outputs": [],
   "source": [
    "ser = serial.Serial('/dev/cu.usbserial-DN01AWD9', 9600)\n",
    "filename=\"./Prior_Data/sprite_20.txt\""
   ]
  },
  {
   "cell_type": "code",
   "execution_count": 9,
   "metadata": {
    "collapsed": false,
    "scrolled": true
   },
   "outputs": [],
   "source": [
    "datafile=open(filename, 'a')\n",
    "count = 0;\n",
    "while count < 200:\n",
    "    datafile=open(filename, 'a')\n",
    "    data = ser.readline().rstrip()\n",
    "    datafile.write(data)\n",
    "    datafile.write('\\n')\n",
    "    print data\n",
    "    count += 1\n",
    "    datafile.close()\n",
    "datafile.close()\n",
    "ser.close()\n",
    "clear_output()"
   ]
  },
  {
   "cell_type": "code",
   "execution_count": 67,
   "metadata": {
    "collapsed": true
   },
   "outputs": [],
   "source": [
    "def createHisto(data, label):\n",
    "    return go.Histogram(\n",
    "                x=data,\n",
    "                histnorm='count',\n",
    "                name=label,\n",
    "                autobinx=True,\n",
    "                opacity=0.75\n",
    "            )"
   ]
  },
  {
   "cell_type": "code",
   "execution_count": 108,
   "metadata": {
    "collapsed": true
   },
   "outputs": [],
   "source": [
    "total=40\n",
    "data = []\n",
    "count = 0\n",
    "means = []\n",
    "stds = []\n",
    "zmeandata = []\n",
    "\n",
    "layout = go.Layout(\n",
    "    barmode='stack',\n",
    "    xaxis=dict(\n",
    "        title='Measured Value'\n",
    "    ),\n",
    "    yaxis=dict(\n",
    "        title='Count'\n",
    "    ),\n",
    "    bargap=0.1,\n",
    "    bargroupgap=0.1\n",
    ")"
   ]
  },
  {
   "cell_type": "code",
   "execution_count": 129,
   "metadata": {
    "collapsed": true
   },
   "outputs": [],
   "source": [
    "def gatherData(index):\n",
    "    global data\n",
    "    global count\n",
    "    global means\n",
    "    global stds\n",
    "    global zmeandata\n",
    "    count = 0\n",
    "    data, means, stds, zmeandata = [], [], [], []\n",
    "    for filename in os.listdir('./Prior_Data'):\n",
    "        x = []\n",
    "        count += 1\n",
    "        with open('./Prior_Data/'+filename, \"rt\") as f:\n",
    "            for line in f:\n",
    "                try:\n",
    "                    if len(line.split(',')) == 12:\n",
    "                        x.extend([int(line.split(',')[index])])\n",
    "                    else:\n",
    "                        continue\n",
    "                except:\n",
    "                    continue\n",
    "        data.extend([createHisto(x, 'Sprite '+str(count))])\n",
    "        means.extend([numpy.mean(x)])\n",
    "        stds.extend([numpy.std(x)])\n",
    "        temp = list(numpy.array(x) - numpy.mean(x))\n",
    "        zmeandata.extend([createHisto(temp, 'Sprite '+str(count))])\n",
    "#         print 'Sprite Number '+str(count)\n",
    "#         print '------------------------------'\n",
    "#         print 'Mean: '+str(numpy.mean(x))\n",
    "#         print 'Std: '+str(numpy.std(x)) + '\\n\\n'\n",
    "        \n",
    "    print 'Mean of means: '+str(numpy.mean(means))\n",
    "    print 'Std of means: '+str(numpy.std(means))\n",
    "    print 'Mean of Std\\'s: '+str(numpy.mean(stds))\n",
    "    print 'Std of std\\'s: '+str(numpy.std(stds))\n",
    "    print 'Number functioning: '+str(count)\n",
    "    print 'Number dead: '+str(total-count)"
   ]
  },
  {
   "cell_type": "markdown",
   "metadata": {},
   "source": [
    "## Gyroscope"
   ]
  },
  {
   "cell_type": "code",
   "execution_count": 130,
   "metadata": {
    "collapsed": false,
    "scrolled": false
   },
   "outputs": [
    {
     "name": "stdout",
     "output_type": "stream",
     "text": [
      "Mean of means: 562.155195422\n",
      "Std of means: 667.921070266\n",
      "Mean of Std's: 41.0199343581\n",
      "Std of std's: 19.9695590355\n",
      "Number functioning: 20\n",
      "Number dead: 20\n"
     ]
    }
   ],
   "source": [
    "gatherData(1)"
   ]
  },
  {
   "cell_type": "code",
   "execution_count": 131,
   "metadata": {
    "collapsed": false
   },
   "outputs": [
    {
     "data": {
      "text/html": [
       "<iframe id=\"igraph\" scrolling=\"no\" style=\"border:none;\" seamless=\"seamless\" src=\"https://plot.ly/~v.h.adams/73.embed\" height=\"525px\" width=\"100%\"></iframe>"
      ],
      "text/plain": [
       "<plotly.tools.PlotlyDisplay object>"
      ]
     },
     "execution_count": 131,
     "metadata": {},
     "output_type": "execute_result"
    }
   ],
   "source": [
    "layout.title='Measured Gyroscope x-Values'\n",
    "fig = go.Figure(data=data, layout=layout)\n",
    "py.iplot(fig, filename='sprite_tests_gx')"
   ]
  },
  {
   "cell_type": "code",
   "execution_count": 132,
   "metadata": {
    "collapsed": false
   },
   "outputs": [
    {
     "data": {
      "text/html": [
       "<iframe id=\"igraph\" scrolling=\"no\" style=\"border:none;\" seamless=\"seamless\" src=\"https://plot.ly/~v.h.adams/75.embed\" height=\"525px\" width=\"100%\"></iframe>"
      ],
      "text/plain": [
       "<plotly.tools.PlotlyDisplay object>"
      ]
     },
     "execution_count": 132,
     "metadata": {},
     "output_type": "execute_result"
    }
   ],
   "source": [
    "layout.title = 'Calibrated Gyroscope x-Values'\n",
    "fig2 = go.Figure(data=zmeandata, layout=layout)\n",
    "py.iplot(fig2, filename='sprite_tests_gx_zm')"
   ]
  },
  {
   "cell_type": "code",
   "execution_count": 133,
   "metadata": {
    "collapsed": false
   },
   "outputs": [
    {
     "name": "stdout",
     "output_type": "stream",
     "text": [
      "Mean of means: -431.654207413\n",
      "Std of means: 926.693726173\n",
      "Mean of Std's: 44.9069638104\n",
      "Std of std's: 14.5785703544\n",
      "Number functioning: 20\n",
      "Number dead: 20\n"
     ]
    }
   ],
   "source": [
    "gatherData(2)"
   ]
  },
  {
   "cell_type": "code",
   "execution_count": 134,
   "metadata": {
    "collapsed": false
   },
   "outputs": [
    {
     "data": {
      "text/html": [
       "<iframe id=\"igraph\" scrolling=\"no\" style=\"border:none;\" seamless=\"seamless\" src=\"https://plot.ly/~v.h.adams/77.embed\" height=\"525px\" width=\"100%\"></iframe>"
      ],
      "text/plain": [
       "<plotly.tools.PlotlyDisplay object>"
      ]
     },
     "execution_count": 134,
     "metadata": {},
     "output_type": "execute_result"
    }
   ],
   "source": [
    "layout.title='Measured Gyroscope y-Values'\n",
    "fig = go.Figure(data=data, layout=layout)\n",
    "py.iplot(fig, filename='sprite_tests_gy')"
   ]
  },
  {
   "cell_type": "code",
   "execution_count": 135,
   "metadata": {
    "collapsed": false
   },
   "outputs": [
    {
     "data": {
      "text/html": [
       "<iframe id=\"igraph\" scrolling=\"no\" style=\"border:none;\" seamless=\"seamless\" src=\"https://plot.ly/~v.h.adams/79.embed\" height=\"525px\" width=\"100%\"></iframe>"
      ],
      "text/plain": [
       "<plotly.tools.PlotlyDisplay object>"
      ]
     },
     "execution_count": 135,
     "metadata": {},
     "output_type": "execute_result"
    }
   ],
   "source": [
    "layout.title = 'Calibrated Gyroscope y-Values'\n",
    "fig2 = go.Figure(data=zmeandata, layout=layout)\n",
    "py.iplot(fig2, filename='sprite_tests_gy_zm')"
   ]
  },
  {
   "cell_type": "code",
   "execution_count": 136,
   "metadata": {
    "collapsed": false
   },
   "outputs": [
    {
     "name": "stdout",
     "output_type": "stream",
     "text": [
      "Mean of means: 149.448218212\n",
      "Std of means: 625.851307682\n",
      "Mean of Std's: 34.8155305127\n",
      "Std of std's: 10.7259785255\n",
      "Number functioning: 20\n",
      "Number dead: 20\n"
     ]
    }
   ],
   "source": [
    "gatherData(3)"
   ]
  },
  {
   "cell_type": "code",
   "execution_count": 137,
   "metadata": {
    "collapsed": false
   },
   "outputs": [
    {
     "data": {
      "text/html": [
       "<iframe id=\"igraph\" scrolling=\"no\" style=\"border:none;\" seamless=\"seamless\" src=\"https://plot.ly/~v.h.adams/81.embed\" height=\"525px\" width=\"100%\"></iframe>"
      ],
      "text/plain": [
       "<plotly.tools.PlotlyDisplay object>"
      ]
     },
     "execution_count": 137,
     "metadata": {},
     "output_type": "execute_result"
    }
   ],
   "source": [
    "layout.title='Measured Gyroscope z-Values'\n",
    "fig = go.Figure(data=data, layout=layout)\n",
    "py.iplot(fig, filename='sprite_tests_gz')"
   ]
  },
  {
   "cell_type": "code",
   "execution_count": 138,
   "metadata": {
    "collapsed": false
   },
   "outputs": [
    {
     "data": {
      "text/html": [
       "<iframe id=\"igraph\" scrolling=\"no\" style=\"border:none;\" seamless=\"seamless\" src=\"https://plot.ly/~v.h.adams/83.embed\" height=\"525px\" width=\"100%\"></iframe>"
      ],
      "text/plain": [
       "<plotly.tools.PlotlyDisplay object>"
      ]
     },
     "execution_count": 138,
     "metadata": {},
     "output_type": "execute_result"
    }
   ],
   "source": [
    "layout.title = 'Calibrated Gyroscope z-Values'\n",
    "fig2 = go.Figure(data=zmeandata, layout=layout)\n",
    "py.iplot(fig2, filename='sprite_tests_gz_zm')"
   ]
  },
  {
   "cell_type": "markdown",
   "metadata": {},
   "source": [
    "## Accelerometer"
   ]
  },
  {
   "cell_type": "code",
   "execution_count": 139,
   "metadata": {
    "collapsed": false
   },
   "outputs": [
    {
     "name": "stdout",
     "output_type": "stream",
     "text": [
      "Mean of means: 407.441309642\n",
      "Std of means: 19.6098813507\n",
      "Mean of Std's: 1.06742338845\n",
      "Std of std's: 0.120286594894\n",
      "Number functioning: 20\n",
      "Number dead: 20\n"
     ]
    }
   ],
   "source": [
    "gatherData(4)"
   ]
  },
  {
   "cell_type": "code",
   "execution_count": 140,
   "metadata": {
    "collapsed": false
   },
   "outputs": [
    {
     "data": {
      "text/html": [
       "<iframe id=\"igraph\" scrolling=\"no\" style=\"border:none;\" seamless=\"seamless\" src=\"https://plot.ly/~v.h.adams/85.embed\" height=\"525px\" width=\"100%\"></iframe>"
      ],
      "text/plain": [
       "<plotly.tools.PlotlyDisplay object>"
      ]
     },
     "execution_count": 140,
     "metadata": {},
     "output_type": "execute_result"
    }
   ],
   "source": [
    "layout.title='Measured Accelerometer x-Values'\n",
    "fig = go.Figure(data=data, layout=layout)\n",
    "py.iplot(fig, filename='sprite_tests_ax')"
   ]
  },
  {
   "cell_type": "code",
   "execution_count": 141,
   "metadata": {
    "collapsed": false
   },
   "outputs": [
    {
     "data": {
      "text/html": [
       "<iframe id=\"igraph\" scrolling=\"no\" style=\"border:none;\" seamless=\"seamless\" src=\"https://plot.ly/~v.h.adams/87.embed\" height=\"525px\" width=\"100%\"></iframe>"
      ],
      "text/plain": [
       "<plotly.tools.PlotlyDisplay object>"
      ]
     },
     "execution_count": 141,
     "metadata": {},
     "output_type": "execute_result"
    }
   ],
   "source": [
    "layout.title = 'Calibrated Accelerometer x-Values'\n",
    "fig2 = go.Figure(data=zmeandata, layout=layout)\n",
    "py.iplot(fig2, filename='sprite_tests_ax_zm')"
   ]
  },
  {
   "cell_type": "code",
   "execution_count": 142,
   "metadata": {
    "collapsed": false
   },
   "outputs": [
    {
     "name": "stdout",
     "output_type": "stream",
     "text": [
      "Mean of means: -15.3603056063\n",
      "Std of means: 13.5646532975\n",
      "Mean of Std's: 0.634385783069\n",
      "Std of std's: 0.0591360635545\n",
      "Number functioning: 20\n",
      "Number dead: 20\n"
     ]
    }
   ],
   "source": [
    "gatherData(5)"
   ]
  },
  {
   "cell_type": "code",
   "execution_count": 143,
   "metadata": {
    "collapsed": false
   },
   "outputs": [
    {
     "data": {
      "text/html": [
       "<iframe id=\"igraph\" scrolling=\"no\" style=\"border:none;\" seamless=\"seamless\" src=\"https://plot.ly/~v.h.adams/89.embed\" height=\"525px\" width=\"100%\"></iframe>"
      ],
      "text/plain": [
       "<plotly.tools.PlotlyDisplay object>"
      ]
     },
     "execution_count": 143,
     "metadata": {},
     "output_type": "execute_result"
    }
   ],
   "source": [
    "layout.title='Measured Accelerometer y-Values'\n",
    "fig = go.Figure(data=data, layout=layout)\n",
    "py.iplot(fig, filename='sprite_tests_ay')"
   ]
  },
  {
   "cell_type": "code",
   "execution_count": 144,
   "metadata": {
    "collapsed": false
   },
   "outputs": [
    {
     "data": {
      "text/html": [
       "<iframe id=\"igraph\" scrolling=\"no\" style=\"border:none;\" seamless=\"seamless\" src=\"https://plot.ly/~v.h.adams/91.embed\" height=\"525px\" width=\"100%\"></iframe>"
      ],
      "text/plain": [
       "<plotly.tools.PlotlyDisplay object>"
      ]
     },
     "execution_count": 144,
     "metadata": {},
     "output_type": "execute_result"
    }
   ],
   "source": [
    "layout.title = 'Calibrated Accelerometer y-Values'\n",
    "fig2 = go.Figure(data=zmeandata, layout=layout)\n",
    "py.iplot(fig2, filename='sprite_tests_ay_zm')"
   ]
  },
  {
   "cell_type": "code",
   "execution_count": 145,
   "metadata": {
    "collapsed": false
   },
   "outputs": [
    {
     "name": "stdout",
     "output_type": "stream",
     "text": [
      "Mean of means: -927.717516573\n",
      "Std of means: 17.5250809247\n",
      "Mean of Std's: 2.17795342054\n",
      "Std of std's: 0.378372705358\n",
      "Number functioning: 20\n",
      "Number dead: 20\n"
     ]
    }
   ],
   "source": [
    "gatherData(6)"
   ]
  },
  {
   "cell_type": "code",
   "execution_count": 146,
   "metadata": {
    "collapsed": false
   },
   "outputs": [
    {
     "data": {
      "text/html": [
       "<iframe id=\"igraph\" scrolling=\"no\" style=\"border:none;\" seamless=\"seamless\" src=\"https://plot.ly/~v.h.adams/93.embed\" height=\"525px\" width=\"100%\"></iframe>"
      ],
      "text/plain": [
       "<plotly.tools.PlotlyDisplay object>"
      ]
     },
     "execution_count": 146,
     "metadata": {},
     "output_type": "execute_result"
    }
   ],
   "source": [
    "layout.title='Measured Accelerometer z-Values'\n",
    "fig = go.Figure(data=data, layout=layout)\n",
    "py.iplot(fig, filename='sprite_tests_az')"
   ]
  },
  {
   "cell_type": "code",
   "execution_count": 147,
   "metadata": {
    "collapsed": false
   },
   "outputs": [
    {
     "data": {
      "text/html": [
       "<iframe id=\"igraph\" scrolling=\"no\" style=\"border:none;\" seamless=\"seamless\" src=\"https://plot.ly/~v.h.adams/95.embed\" height=\"525px\" width=\"100%\"></iframe>"
      ],
      "text/plain": [
       "<plotly.tools.PlotlyDisplay object>"
      ]
     },
     "execution_count": 147,
     "metadata": {},
     "output_type": "execute_result"
    }
   ],
   "source": [
    "layout.title = 'Calibrated Accelerometer z-Values'\n",
    "fig2 = go.Figure(data=zmeandata, layout=layout)\n",
    "py.iplot(fig2, filename='sprite_tests_az_zm')"
   ]
  },
  {
   "cell_type": "markdown",
   "metadata": {},
   "source": [
    "## Magnetometer"
   ]
  },
  {
   "cell_type": "code",
   "execution_count": 148,
   "metadata": {
    "collapsed": false
   },
   "outputs": [
    {
     "name": "stdout",
     "output_type": "stream",
     "text": [
      "Mean of means: 710.794392391\n",
      "Std of means: 119.194462054\n",
      "Mean of Std's: 10.6573828387\n",
      "Std of std's: 0.693211385921\n",
      "Number functioning: 20\n",
      "Number dead: 20\n"
     ]
    }
   ],
   "source": [
    "gatherData(7)"
   ]
  },
  {
   "cell_type": "code",
   "execution_count": 149,
   "metadata": {
    "collapsed": false
   },
   "outputs": [
    {
     "data": {
      "text/html": [
       "<iframe id=\"igraph\" scrolling=\"no\" style=\"border:none;\" seamless=\"seamless\" src=\"https://plot.ly/~v.h.adams/97.embed\" height=\"525px\" width=\"100%\"></iframe>"
      ],
      "text/plain": [
       "<plotly.tools.PlotlyDisplay object>"
      ]
     },
     "execution_count": 149,
     "metadata": {},
     "output_type": "execute_result"
    }
   ],
   "source": [
    "layout.title='Measured Magnetometer x-Values'\n",
    "fig = go.Figure(data=data, layout=layout)\n",
    "py.iplot(fig, filename='sprite_tests_mx')"
   ]
  },
  {
   "cell_type": "code",
   "execution_count": 150,
   "metadata": {
    "collapsed": false
   },
   "outputs": [
    {
     "data": {
      "text/html": [
       "<iframe id=\"igraph\" scrolling=\"no\" style=\"border:none;\" seamless=\"seamless\" src=\"https://plot.ly/~v.h.adams/87.embed\" height=\"525px\" width=\"100%\"></iframe>"
      ],
      "text/plain": [
       "<plotly.tools.PlotlyDisplay object>"
      ]
     },
     "execution_count": 150,
     "metadata": {},
     "output_type": "execute_result"
    }
   ],
   "source": [
    "layout.title = 'Calibrated Accelerometer x-Values'\n",
    "fig2 = go.Figure(data=zmeandata, layout=layout)\n",
    "py.iplot(fig2, filename='sprite_tests_ax_zm')"
   ]
  },
  {
   "cell_type": "code",
   "execution_count": 151,
   "metadata": {
    "collapsed": false
   },
   "outputs": [
    {
     "name": "stdout",
     "output_type": "stream",
     "text": [
      "Mean of means: 42.928382912\n",
      "Std of means: 128.929381413\n",
      "Mean of Std's: 7.15595651799\n",
      "Std of std's: 0.54419568913\n",
      "Number functioning: 20\n",
      "Number dead: 20\n"
     ]
    }
   ],
   "source": [
    "gatherData(8)"
   ]
  },
  {
   "cell_type": "code",
   "execution_count": 152,
   "metadata": {
    "collapsed": false
   },
   "outputs": [
    {
     "data": {
      "text/html": [
       "<iframe id=\"igraph\" scrolling=\"no\" style=\"border:none;\" seamless=\"seamless\" src=\"https://plot.ly/~v.h.adams/99.embed\" height=\"525px\" width=\"100%\"></iframe>"
      ],
      "text/plain": [
       "<plotly.tools.PlotlyDisplay object>"
      ]
     },
     "execution_count": 152,
     "metadata": {},
     "output_type": "execute_result"
    }
   ],
   "source": [
    "layout.title='Measured Magnetometer y-Values'\n",
    "fig = go.Figure(data=data, layout=layout)\n",
    "py.iplot(fig, filename='sprite_tests_my')"
   ]
  },
  {
   "cell_type": "code",
   "execution_count": 153,
   "metadata": {
    "collapsed": false
   },
   "outputs": [
    {
     "data": {
      "text/html": [
       "<iframe id=\"igraph\" scrolling=\"no\" style=\"border:none;\" seamless=\"seamless\" src=\"https://plot.ly/~v.h.adams/91.embed\" height=\"525px\" width=\"100%\"></iframe>"
      ],
      "text/plain": [
       "<plotly.tools.PlotlyDisplay object>"
      ]
     },
     "execution_count": 153,
     "metadata": {},
     "output_type": "execute_result"
    }
   ],
   "source": [
    "layout.title = 'Calibrated Accelerometer y-Values'\n",
    "fig2 = go.Figure(data=zmeandata, layout=layout)\n",
    "py.iplot(fig2, filename='sprite_tests_ay_zm')"
   ]
  },
  {
   "cell_type": "code",
   "execution_count": 154,
   "metadata": {
    "collapsed": false
   },
   "outputs": [
    {
     "name": "stdout",
     "output_type": "stream",
     "text": [
      "Mean of means: 184.594469418\n",
      "Std of means: 63.1629451867\n",
      "Mean of Std's: 6.15782769746\n",
      "Std of std's: 0.39378798435\n",
      "Number functioning: 20\n",
      "Number dead: 20\n"
     ]
    }
   ],
   "source": [
    "gatherData(9)"
   ]
  },
  {
   "cell_type": "code",
   "execution_count": 155,
   "metadata": {
    "collapsed": false
   },
   "outputs": [
    {
     "data": {
      "text/html": [
       "<iframe id=\"igraph\" scrolling=\"no\" style=\"border:none;\" seamless=\"seamless\" src=\"https://plot.ly/~v.h.adams/101.embed\" height=\"525px\" width=\"100%\"></iframe>"
      ],
      "text/plain": [
       "<plotly.tools.PlotlyDisplay object>"
      ]
     },
     "execution_count": 155,
     "metadata": {},
     "output_type": "execute_result"
    }
   ],
   "source": [
    "layout.title='Measured Magnetometer z-Values'\n",
    "fig = go.Figure(data=data, layout=layout)\n",
    "py.iplot(fig, filename='sprite_tests_mz')"
   ]
  },
  {
   "cell_type": "code",
   "execution_count": 156,
   "metadata": {
    "collapsed": false
   },
   "outputs": [
    {
     "data": {
      "text/html": [
       "<iframe id=\"igraph\" scrolling=\"no\" style=\"border:none;\" seamless=\"seamless\" src=\"https://plot.ly/~v.h.adams/95.embed\" height=\"525px\" width=\"100%\"></iframe>"
      ],
      "text/plain": [
       "<plotly.tools.PlotlyDisplay object>"
      ]
     },
     "execution_count": 156,
     "metadata": {},
     "output_type": "execute_result"
    }
   ],
   "source": [
    "layout.title = 'Calibrated Accelerometer z-Values'\n",
    "fig2 = go.Figure(data=zmeandata, layout=layout)\n",
    "py.iplot(fig2, filename='sprite_tests_az_zm')"
   ]
  },
  {
   "cell_type": "markdown",
   "metadata": {},
   "source": [
    "## Phototransistors"
   ]
  },
  {
   "cell_type": "code",
   "execution_count": 157,
   "metadata": {
    "collapsed": false
   },
   "outputs": [
    {
     "name": "stdout",
     "output_type": "stream",
     "text": [
      "Mean of means: 148.514424725\n",
      "Std of means: 18.2053085801\n",
      "Mean of Std's: 4.2231974634\n",
      "Std of std's: 1.22570075664\n",
      "Number functioning: 20\n",
      "Number dead: 20\n"
     ]
    }
   ],
   "source": [
    "gatherData(10)"
   ]
  },
  {
   "cell_type": "code",
   "execution_count": 160,
   "metadata": {
    "collapsed": false
   },
   "outputs": [
    {
     "data": {
      "text/html": [
       "<iframe id=\"igraph\" scrolling=\"no\" style=\"border:none;\" seamless=\"seamless\" src=\"https://plot.ly/~v.h.adams/105.embed\" height=\"525px\" width=\"100%\"></iframe>"
      ],
      "text/plain": [
       "<plotly.tools.PlotlyDisplay object>"
      ]
     },
     "execution_count": 160,
     "metadata": {},
     "output_type": "execute_result"
    }
   ],
   "source": [
    "layout.title='Measured Rear Light Sensor'\n",
    "fig = go.Figure(data=data, layout=layout)\n",
    "py.iplot(fig, filename='sprite_tests_lr')"
   ]
  },
  {
   "cell_type": "code",
   "execution_count": 161,
   "metadata": {
    "collapsed": false
   },
   "outputs": [
    {
     "data": {
      "text/html": [
       "<iframe id=\"igraph\" scrolling=\"no\" style=\"border:none;\" seamless=\"seamless\" src=\"https://plot.ly/~v.h.adams/107.embed\" height=\"525px\" width=\"100%\"></iframe>"
      ],
      "text/plain": [
       "<plotly.tools.PlotlyDisplay object>"
      ]
     },
     "execution_count": 161,
     "metadata": {},
     "output_type": "execute_result"
    }
   ],
   "source": [
    "layout.title = 'Calibrated Rear Light Sensor'\n",
    "fig2 = go.Figure(data=zmeandata, layout=layout)\n",
    "py.iplot(fig2, filename='sprite_tests_lr_zm')"
   ]
  },
  {
   "cell_type": "code",
   "execution_count": 162,
   "metadata": {
    "collapsed": false
   },
   "outputs": [
    {
     "name": "stdout",
     "output_type": "stream",
     "text": [
      "Mean of means: 2.5373806152\n",
      "Std of means: 0.906281228231\n",
      "Mean of Std's: 2.6322225708\n",
      "Std of std's: 0.347509174878\n",
      "Number functioning: 20\n",
      "Number dead: 20\n"
     ]
    }
   ],
   "source": [
    "gatherData(11)"
   ]
  },
  {
   "cell_type": "code",
   "execution_count": 163,
   "metadata": {
    "collapsed": false
   },
   "outputs": [
    {
     "data": {
      "text/html": [
       "<iframe id=\"igraph\" scrolling=\"no\" style=\"border:none;\" seamless=\"seamless\" src=\"https://plot.ly/~v.h.adams/103.embed\" height=\"525px\" width=\"100%\"></iframe>"
      ],
      "text/plain": [
       "<plotly.tools.PlotlyDisplay object>"
      ]
     },
     "execution_count": 163,
     "metadata": {},
     "output_type": "execute_result"
    }
   ],
   "source": [
    "layout.title='Measured Front Light Sensor'\n",
    "fig = go.Figure(data=data, layout=layout)\n",
    "py.iplot(fig, filename='sprite_tests_lf')"
   ]
  },
  {
   "cell_type": "code",
   "execution_count": 164,
   "metadata": {
    "collapsed": false
   },
   "outputs": [
    {
     "data": {
      "text/html": [
       "<iframe id=\"igraph\" scrolling=\"no\" style=\"border:none;\" seamless=\"seamless\" src=\"https://plot.ly/~v.h.adams/109.embed\" height=\"525px\" width=\"100%\"></iframe>"
      ],
      "text/plain": [
       "<plotly.tools.PlotlyDisplay object>"
      ]
     },
     "execution_count": 164,
     "metadata": {},
     "output_type": "execute_result"
    }
   ],
   "source": [
    "layout.title = 'Calibrated Front Light Sensor'\n",
    "fig2 = go.Figure(data=zmeandata, layout=layout)\n",
    "py.iplot(fig2, filename='sprite_tests_lf_zm')"
   ]
  },
  {
   "cell_type": "code",
   "execution_count": null,
   "metadata": {
    "collapsed": true
   },
   "outputs": [],
   "source": []
  }
 ],
 "metadata": {
  "kernelspec": {
   "display_name": "Python 2",
   "language": "python",
   "name": "python2"
  },
  "language_info": {
   "codemirror_mode": {
    "name": "ipython",
    "version": 2
   },
   "file_extension": ".py",
   "mimetype": "text/x-python",
   "name": "python",
   "nbconvert_exporter": "python",
   "pygments_lexer": "ipython2",
   "version": "2.7.9"
  }
 },
 "nbformat": 4,
 "nbformat_minor": 2
}
